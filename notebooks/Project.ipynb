{
 "cells": [
  {
   "cell_type": "markdown",
   "metadata": {},
   "source": [
    "# Identification de la paraphrase"
   ]
  },
  {
   "cell_type": "markdown",
   "metadata": {},
   "source": [
    "## Problématique \n",
    "Il s'agit de dire si deux phrases partagent le même sens, ou autrement dit si elles sont paraphrases l'une de l'autre.\n"
   ]
  },
  {
   "cell_type": "markdown",
   "metadata": {},
   "source": [
    "##### Installation de l'environnement"
   ]
  },
  {
   "cell_type": "code",
   "execution_count": 1,
   "metadata": {},
   "outputs": [
    {
     "name": "stdout",
     "output_type": "stream",
     "text": [
      "/Users/luciegabagnou/Documents/MOSEF/ML_AVANCE/PROJET/paraphrase-identification/notebooks\n",
      "Requirement already satisfied: datasets in /Users/luciegabagnou/miniconda/envs/dl_gpu/lib/python3.8/site-packages (from -r requirements.txt (line 1)) (2.10.1)\n",
      "Requirement already satisfied: pandas in /Users/luciegabagnou/miniconda/envs/dl_gpu/lib/python3.8/site-packages (from -r requirements.txt (line 2)) (1.5.3)\n",
      "Requirement already satisfied: numpy in /Users/luciegabagnou/miniconda/envs/dl_gpu/lib/python3.8/site-packages (from -r requirements.txt (line 3)) (1.24.2)\n",
      "Requirement already satisfied: scikit-learn in /Users/luciegabagnou/miniconda/envs/dl_gpu/lib/python3.8/site-packages (from -r requirements.txt (line 4)) (1.2.2)\n",
      "Requirement already satisfied: nltk in /Users/luciegabagnou/miniconda/envs/dl_gpu/lib/python3.8/site-packages (from -r requirements.txt (line 5)) (3.8.1)\n",
      "Requirement already satisfied: matplotlib in /Users/luciegabagnou/miniconda/envs/dl_gpu/lib/python3.8/site-packages (from -r requirements.txt (line 6)) (3.7.1)\n",
      "Requirement already satisfied: gensim in /Users/luciegabagnou/miniconda/envs/dl_gpu/lib/python3.8/site-packages (from -r requirements.txt (line 7)) (4.3.1)\n",
      "Requirement already satisfied: seaborn in /Users/luciegabagnou/miniconda/envs/dl_gpu/lib/python3.8/site-packages (from -r requirements.txt (line 8)) (0.12.2)\n",
      "\u001b[31mERROR: Could not find a version that satisfies the requirement tensorflow (from versions: none)\u001b[0m\u001b[31m\n",
      "\u001b[0m\u001b[31mERROR: No matching distribution found for tensorflow\u001b[0m\u001b[31m\n",
      "\u001b[0m"
     ]
    }
   ],
   "source": [
    "# Installation de l'env\n",
    "import os\n",
    "import importlib\n",
    "\n",
    "print(os.getcwd())\n",
    "os.chdir(os.path.dirname(os.getcwd()))\n",
    "# Installation des packages nécessaires à ce projet\n",
    "!pip install -r requirements.txt"
   ]
  },
  {
   "cell_type": "code",
   "execution_count": 2,
   "metadata": {},
   "outputs": [
    {
     "name": "stderr",
     "output_type": "stream",
     "text": [
      "/Users/luciegabagnou/miniconda/envs/dl_gpu/lib/python3.8/site-packages/tqdm/auto.py:21: TqdmWarning: IProgress not found. Please update jupyter and ipywidgets. See https://ipywidgets.readthedocs.io/en/stable/user_install.html\n",
      "  from .autonotebook import tqdm as notebook_tqdm\n",
      "[nltk_data] Downloading package wordnet to\n",
      "[nltk_data]     /Users/luciegabagnou/nltk_data...\n",
      "[nltk_data]   Package wordnet is already up-to-date!\n",
      "[nltk_data] Downloading package punkt to\n",
      "[nltk_data]     /Users/luciegabagnou/nltk_data...\n",
      "[nltk_data]   Package punkt is already up-to-date!\n"
     ]
    }
   ],
   "source": [
    "import scripts.data_utils\n",
    "import scripts.SiameseLSTM_model\n",
    "import scripts.BERTFineTuner_model\n",
    "from scripts.data_utils import HuggingFaceExtracting,ETLPipeline,WordEmbedding\n",
    "from scripts.SiameseLSTM_model import SiameseNet\n",
    "from scripts.BERTFineTuner_model import BertTransferModel"
   ]
  },
  {
   "cell_type": "markdown",
   "metadata": {},
   "source": [
    "##### Importation des données\n",
    "\n",
    "Ici, pour collecter les données des données nous avons créée une classe **HuggingFaceExtracting** : une classe pour extraire des données à partir de datasets Hugging Face. Elle comprend des méthodes pour extraire les features et les labels, charger des données de datasets Hugging Face, et exporter des données dans un fichier CSV (ou laisser en DataFrame pandas).\n",
    "Pour rendre uniforme les inputs dans la pipeline de preprocessing, nous avons crée une colonne \"inputs\" composée des paires de phrases sous forme de liste, et une \"labels\" ayant les labels bien encodés.\n",
    "\n",
    "\n",
    "A l'origine:\n",
    "On a effectué une analyse sur l'ensemble du jeu de données visible sur [HuggingFace](https://huggingface.co/datasets/bigscience/P3/viewer/glue_qqp_same_thing/). Les colonnes qui vous nous intéressez sont \"inputs_pretokenized\" et \"targets_pretokenized\":\n",
    "- \"inputs_pretokenized\":'Are the questions \"How is the life of a math student? Could you describe your own experiences?\" and \"Which level of prepration is enough for the exam jlpt5?\" asking the same thing? '\n",
    "=> Il s'agit pour chaque observation d'une paire de phrases jointes par \"and\" \n",
    "=> Remarque: il s'agit de questions pour l'ensemble des observations\n",
    "- \"targets_pretokenized\": est-ce que la paire de phrases précédente est une paraphrase ou non? \"yes\" => Il s'agit bien d'une paraphrase et \"no\" les phrases ne sont pas des paraphrases\n",
    "\n",
    "\n",
    "A la fin, on a:\n",
    "\n",
    "- \"inputs\": [\"How is the life of a math student? Could you describe your own experiences?\",\"Which level of prepration is enough for the exam jlpt5?\"] obtenu en utilisant une regex adapté au contexte\n",
    "- \"labels\": On a encodé les labels en {0,1}: 0 => pas de paraphrase , 1 => paraphrase\n",
    "\n",
    "\n"
   ]
  },
  {
   "cell_type": "code",
   "execution_count": 3,
   "metadata": {},
   "outputs": [
    {
     "name": "stderr",
     "output_type": "stream",
     "text": [
      "Found cached dataset p3 (/Users/luciegabagnou/.cache/huggingface/datasets/bigscience___p3/glue_qqp_same_thing/0.1.0/204f22caf7f0cbaf01a8631ec396c1cab69f8d71f276fb8619fae696536874ab)\n",
      "100%|██████████| 3/3 [00:00<00:00, 16.44it/s]\n"
     ]
    }
   ],
   "source": [
    "huggingface_extractor = HuggingFaceExtracting(\"bigscience/P3\",\"glue_qqp_same_thing\")\n",
    "huggingface_extractor.load_huggingface_dataset()"
   ]
  },
  {
   "cell_type": "code",
   "execution_count": 4,
   "metadata": {},
   "outputs": [],
   "source": [
    "train = huggingface_extractor.extract(\"train\")\n",
    "test = huggingface_extractor.extract(\"test\")\n",
    "validation = huggingface_extractor.extract(\"validation\")"
   ]
  },
  {
   "cell_type": "code",
   "execution_count": 5,
   "metadata": {},
   "outputs": [
    {
     "data": {
      "text/html": [
       "<div>\n",
       "<style scoped>\n",
       "    .dataframe tbody tr th:only-of-type {\n",
       "        vertical-align: middle;\n",
       "    }\n",
       "\n",
       "    .dataframe tbody tr th {\n",
       "        vertical-align: top;\n",
       "    }\n",
       "\n",
       "    .dataframe thead th {\n",
       "        text-align: right;\n",
       "    }\n",
       "</style>\n",
       "<table border=\"1\" class=\"dataframe\">\n",
       "  <thead>\n",
       "    <tr style=\"text-align: right;\">\n",
       "      <th></th>\n",
       "      <th>inputs</th>\n",
       "      <th>labels</th>\n",
       "    </tr>\n",
       "  </thead>\n",
       "  <tbody>\n",
       "    <tr>\n",
       "      <th>0</th>\n",
       "      <td>[How is the life of a math student? Could you ...</td>\n",
       "      <td>0</td>\n",
       "    </tr>\n",
       "    <tr>\n",
       "      <th>1</th>\n",
       "      <td>[How do I control my horny emotions?, How do y...</td>\n",
       "      <td>1</td>\n",
       "    </tr>\n",
       "    <tr>\n",
       "      <th>2</th>\n",
       "      <td>[What causes stool color to change to yellow?,...</td>\n",
       "      <td>0</td>\n",
       "    </tr>\n",
       "    <tr>\n",
       "      <th>3</th>\n",
       "      <td>[What can one do after MBBS?, What do i do aft...</td>\n",
       "      <td>1</td>\n",
       "    </tr>\n",
       "    <tr>\n",
       "      <th>4</th>\n",
       "      <td>[Where can I find a power outlet for my laptop...</td>\n",
       "      <td>0</td>\n",
       "    </tr>\n",
       "  </tbody>\n",
       "</table>\n",
       "</div>"
      ],
      "text/plain": [
       "                                              inputs  labels\n",
       "0  [How is the life of a math student? Could you ...       0\n",
       "1  [How do I control my horny emotions?, How do y...       1\n",
       "2  [What causes stool color to change to yellow?,...       0\n",
       "3  [What can one do after MBBS?, What do i do aft...       1\n",
       "4  [Where can I find a power outlet for my laptop...       0"
      ]
     },
     "execution_count": 5,
     "metadata": {},
     "output_type": "execute_result"
    }
   ],
   "source": [
    "train.head()"
   ]
  },
  {
   "cell_type": "markdown",
   "metadata": {},
   "source": [
    "### EDA \n",
    "Il y a 363846 observations (paires de phrases + targets) dans l'échantillon de train, 390965 dans l'échantillon de test, et 40430 dans l'échantillon de validation. Au total, on compte donc 795241 observations.\n",
    "\n",
    "Dans un premier temps, on a réalisé une analyse exploratoire du jeu de données (dans sa globalité) pour comprendre quel était le type de données auquel nous étions confronté. \n",
    "\n"
   ]
  },
  {
   "cell_type": "code",
   "execution_count": 6,
   "metadata": {},
   "outputs": [],
   "source": [
    "import pandas as pd\n",
    "import matplotlib.pyplot as plt\n",
    "import seaborn as sns\n",
    "def flatten(l):\n",
    "    return [item for sublist in l for item in sublist]"
   ]
  },
  {
   "cell_type": "code",
   "execution_count": 7,
   "metadata": {},
   "outputs": [],
   "source": [
    "data = pd.concat([train,test,validation],axis=0).reset_index()\n",
    "sentences = data[\"inputs\"].values.tolist()\n",
    "sentences=flatten(sentences)"
   ]
  },
  {
   "cell_type": "code",
   "execution_count": 8,
   "metadata": {},
   "outputs": [
    {
     "name": "stdout",
     "output_type": "stream",
     "text": [
      "Nombre de mots median dans la phrase 10\n"
     ]
    },
    {
     "data": {
      "image/png": "[encoded data removed]",
      "text/plain": [
       "<Figure size 640x480 with 1 Axes>"
      ]
     },
     "metadata": {},
     "output_type": "display_data"
    }
   ],
   "source": [
    "lenght=pd.Series(sentences).apply(lambda x: len(x.split()))\n",
    "sns.histplot(lenght)\n",
    "print(\"Nombre de mots median dans la phrase\",round(lenght.median()))"
   ]
  },
  {
   "cell_type": "code",
   "execution_count": 9,
   "metadata": {},
   "outputs": [
    {
     "data": {
      "text/plain": [
       "count    1.590482e+06\n",
       "mean     1.112469e+01\n",
       "std      5.822297e+00\n",
       "min      0.000000e+00\n",
       "25%      7.000000e+00\n",
       "50%      1.000000e+01\n",
       "75%      1.300000e+01\n",
       "max      2.370000e+02\n",
       "dtype: float64"
      ]
     },
     "execution_count": 9,
     "metadata": {},
     "output_type": "execute_result"
    }
   ],
   "source": [
    "lenght.describe()"
   ]
  },
  {
   "cell_type": "markdown",
   "metadata": {},
   "source": [
    "### Synthèse de l'analyse exploratoire\n",
    "- Syntaxe : Puisque toutes les observations sont des questions, leur syntaxe devrait être plutôt similaire. Ainsi, la syntaxe n'est pas un facteur qu'il faut inclure dans notre analyse en tant que caractéristique. Cependant, si nous observions une variété de structures, cela pourrait créer de l'hétérogénéité dans les observations. Dans ce cas, nous devrions réaligner toutes les phrases pour qu'elles aient une structure similaire afin de les comparer. Par conséquent, nous pouvons simplifier notre analyse en nous concentrant sur le contenu sémantique des questions plutôt que sur leur structure syntaxique, qui est relativement simple dans ce cas. \n",
    "- Les mots: La longueur des phrases est plutôt homogène et est concentré autour de 10 mots et 75% des phrases ont une longueur inférieure à 13 mots. En ce qui concerne le lexique, nous ne devrons pas nous focaliser dessus pour discriminer les observations les unes des autres (contrairement à la classification de documents qui se concentre sur le vocabulaire). \n",
    "- Langue: Le modèle sera propre à l'anglais vu qu'il s'agit de l'unique langue employé dans les phrases."
   ]
  },
  {
   "cell_type": "markdown",
   "metadata": {},
   "source": [
    "## Preprocessing\n",
    "Pour cette partie, nous avons créé une classe **ETLPipeline** : une classe représentant un pipeline ETL pour les datasets de texte. Elle comprend des méthodes pour normaliser les entrées, transformer les paires de phrases et les étiquettes en entrées appropriées pour un modèle de classification de texte, et exporter des données.\n",
    "La fonction principale qui traite le processing du texte est:\n",
    "\n",
    "\n",
    "```python\n",
    "def standardize_text_inputs(self, input_data):\n",
    "    self.lemmatizer = WordNetLemmatizer()\n",
    "    \n",
    "    def process_sentence(sentence):\n",
    "        sentence = contractions.fix(sentence)\n",
    "        sentence = sentence.replace('\"', \"\").replace('?', \"\")\n",
    "        tokens = nltk.word_tokenize(sentence.lower())\n",
    "        if self.lemmatize_option is True:\n",
    "            return [self.lemmatizer.lemmatize(word) for word in tokens if word.isalpha()]\n",
    "        else:\n",
    "            return [word for word in tokens if word.isalpha()]\n",
    "\n",
    "    all_tokens = [process_sentence(sentence) for sentence in input_data]\n",
    "\n",
    "    if self.join_option:\n",
    "        all_tokens = [\" \".join(tokens) for tokens in all_tokens]\n",
    "        \n",
    "    return all_tokens\n",
    "        \n",
    "```\n",
    "Comme on peut le voir, elle effectue différents étapes: \n",
    "- enlève les contractions du type \"I'm\" et les convertit en \"I am\"\n",
    "- remplace les signes de ponctuations parasites tel que \"\"\"\" et \"?\"\n",
    "- met en minuscules les caractères et découpe en tokens les mots (selon nltk)\n",
    "- si souhaité, la fonction lemmatise ce qui peut permettre d'uniformiser les mots en cas de pluriel, conjugaison..\n",
    "- enfin on garde uniquement les élements sont des lettres\n",
    "- selon le word embedding utilisé, on laisse le choix à l'utilisateur de s'il souhaite récupérer la phrase préprocessé sous forme de liste de tokens ou bien d'une phrase."
   ]
  },
  {
   "cell_type": "code",
   "execution_count": 10,
   "metadata": {},
   "outputs": [],
   "source": [
    "preprocessor = ETLPipeline()\n",
    "#La \"méthode\" exécute l'ensemble de la pipeline\n",
    "train_data = preprocessor.transform(train)\n",
    "test_data = preprocessor.transform(test)\n",
    "valid_data = preprocessor.transform(validation)"
   ]
  },
  {
   "cell_type": "markdown",
   "metadata": {},
   "source": [
    "## Word Embedding\n",
    "Dans cette partie, nous avons utilisé la classe **WordEmbedding**: elle est utilisée pour créer une représentation vectorielle pour les mots en utilisant un modèle d'embedding de mots pré-entraîné. La classe possède des méthodes:\n",
    "-  pour fit un tokenizer sur les données d'entraînement (ensemble des phrases)\n",
    "- pour tokenizer et padder (vectoriser et uniformiser la longueur) des séquences d'entrée (sur les phrases 1 puis 2 respectivement)\n",
    "- pour charger le modèle pré-entraîné (qui devront être accessibles dans models). Le modèle est disponible sur Fastext à l'adresse:https://fasttext.cc/docs/en/crawl-vectors.html. \n",
    "Pour accéder à la matrice de poids utilisée ici:\n",
    "``` python\n",
    ">>> import fasttext\n",
    ">>> import fasttext.util\n",
    ">>> ft = fasttext.load_model('models/pre-trained models/cc.en.300.bin')\n",
    ">>> fasttext.util.reduce_model(ft, 100)\n",
    ">>> ft.save_model('models/pre-trained models/cc.en.100.bin')\n",
    "```\n",
    "\n",
    "- pour construire une matrice de poids qui sera utilisée pour initialiser les poids de la couche d'embedding dans un modèle de réseau de neurones: il s'agit d'une couche partagée entre les deux inputs (les deux phrases d'entrée) et les mêmes poids sont utilisés pour vectoriser toutes les phrases (même si c'est sur 2 branches différentes).\n",
    "\n",
    "Ici, nous faisons un zoom sur la construction de la matrice des poids:\n",
    "\n",
    "```` python\n",
    "def build_weight_matrix(self):\n",
    "    vocab_size = len(self.tokenizer.word_index) + 1\n",
    "    weight_matrix = np.zeros((vocab_size, self.embedding_size))\n",
    "    for word, i in self.tokenizer.word_index.items():\n",
    "        try:\n",
    "            embedding_vector = self.pretrained_model[word]\n",
    "            weight_matrix[i] = embedding_vector\n",
    "        except KeyError:\n",
    "            weight_matrix[i] = np.random.uniform(-5, 5, self.embedding_size)\n",
    "    return weight_matrix\n",
    "````\n",
    "Comme on peut le voir, la fonction construit une matrice de poids à partir d'un modèle d'embedding de mots pré-entraîné et d'un tokenizer. La matrice de poids est utilisée pour initialiser les poids de la couche d'embedding dans un modèle de réseau de neurones.\n",
    "Plus précisément, pour chaque mot dans le vocabulaire, la méthode tente de récupérer son vecteur d'embedding à partir du modèle d'embedding pré-entraîné. Si le mot est présent dans le modèle, la méthode utilise son vecteur d'embedding comme poids pour la ligne correspondante dans la matrice de poids. Si le mot n'est pas présent dans le modèle, la méthode initialise une ligne aléatoire de la matrice de poids avec des valeurs uniformément distribuées entre -5 et 5.\n",
    "\n",
    "\n"
   ]
  },
  {
   "cell_type": "markdown",
   "metadata": {},
   "source": [
    "Ici, on a utilisé un modèle FastText (explication dans le rapport) car il semblait le plus adapté pour traiter les mots \"hors vocabulaire\" c'est-à-dire les mots non connus lors de la prédiction (si typiquement un mot d'une prédiction n'était pas présent dans l'échantillon d'apprentissage). \n",
    "Nous tenterons plus tard de changer de modèle en utilisant Word2Vec pour voir si cela peut améliorer les performances.\n"
   ]
  },
  {
   "cell_type": "markdown",
   "metadata": {},
   "source": [
    "Ici, on effectue différentes étapes:\n",
    "- On instancie l'objet qui fait le word-embedding en indiquant le type de modèle pré-entraîné et le chemin d'accès du modèle utilisé\n",
    "- On ajuste le tokenizer propre au modèle à partir du corpus de texte d'entraînement (il s'agit d'une vectorisation simple)\n",
    "- On charge le modèle pré-entrainé \n",
    "- On récupère les inputs tokenizés et uniformisés en longueur\n",
    "- On créée une matrice de poids basé sur la fonction vu précédemment\n"
   ]
  },
  {
   "cell_type": "code",
   "execution_count": 11,
   "metadata": {},
   "outputs": [
    {
     "name": "stderr",
     "output_type": "stream",
     "text": [
      "Warning : `load_model` does not return WordVectorModel or SupervisedModel any more, but a `FastText` object which is very similar.\n"
     ]
    }
   ],
   "source": [
    "\n",
    "word_embedder = WordEmbedding(15,\"FastText\",\"cc.en.100.bin\")\n",
    "word_embedder.tokenizer(train_data[\"sentences_1\"]+ train_data[\"sentences_2\"])\n",
    "word_embedder.load_pretrained_model()\n",
    "train_sentences_1 = word_embedder.tokenize_and_pad(train_data[\"sentences_1\"])\n",
    "train_sentences_2 = word_embedder.tokenize_and_pad(train_data[\"sentences_2\"])"
   ]
  },
  {
   "cell_type": "code",
   "execution_count": 12,
   "metadata": {},
   "outputs": [],
   "source": [
    "weight_matrix = word_embedder.build_weight_matrix()"
   ]
  },
  {
   "cell_type": "code",
   "execution_count": 13,
   "metadata": {},
   "outputs": [],
   "source": [
    "#On fait la même chose pour l'échantillon de test\n",
    "test_data = preprocessor.transform(test)\n",
    "test_sentences_1 = word_embedder.tokenize_and_pad(test_data[\"sentences_1\"])\n",
    "test_sentences_2 = word_embedder.tokenize_and_pad(test_data[\"sentences_2\"])"
   ]
  },
  {
   "cell_type": "code",
   "execution_count": 14,
   "metadata": {},
   "outputs": [],
   "source": [
    "#On fait la même chose pour l'échantillon de validation\n",
    "valid_data = preprocessor.transform(validation)\n",
    "valid_sentences_1 = word_embedder.tokenize_and_pad(valid_data[\"sentences_1\"])\n",
    "valid_sentences_2 = word_embedder.tokenize_and_pad(valid_data[\"sentences_2\"])"
   ]
  },
  {
   "cell_type": "markdown",
   "metadata": {},
   "source": [
    "### Modèle Siamois LSTM\n",
    "Notre modèle principal et ses résultats sont à retrouver dans cette partie. Comme expliqué dans le rapport, après avoir réalisé le word-embedding:\n",
    "- Les représentations sont passées dans une couche cachée de LSTM pour capturer les relations entre les mots\n",
    "- Les sorties de cette couche sont ensuite concaténées et comparées via une couche de distance pour calculer la similarité entre les deux éléments. \n",
    "\n",
    "A cette occasion, nous avons construit une classe \"SiameseNet\" qui permet de reconstruire facilement le modèle (les paramètres/hyperparamètres utilisés sont mis par défaut).\n",
    "\n",
    "**Remarque**:\n",
    "A partir de cette structure simple, nous avons tenté des améliorations en utilisant notamment des Bi-LSTM ainsi que des GRU mais ici nous présentons uniquement le modèle pertinent. \n",
    "Il est toutefois possible de runner le code en utilisant d'autres types de couches (paramètre \"hidden_layer_architecture\" ainsi que \"bi_directional_architecture_option\" si on souhaite utiliser une couche bidirectionnelle).\n",
    "\n",
    "Après avoir sélectionné ce modèle, nous avons fait un finetuning pour voir si certains paramètres pouvaient permettre d'améliorer l'accuracy (en veillant à ne pas overfitter). Le code est le suivant:\n",
    "- On crée le modèle et les range-values pour les paramètres/hyperparamètres à tester:\n",
    "```python \n",
    "import tensorflow as tf\n",
    "import numpy as np\n",
    "from sklearn.model_selection import train_test_split\n",
    "import keras_tuner as kt\n",
    "import keras.backend as K\n",
    "from scripts.model import manhattan_distance,contrastive_loss\n",
    "\n",
    "def build_model(hp):\n",
    "    input_dim = 15\n",
    "    input_dim_embedding = weight_matrix.shape[0]\n",
    "    output_dim_embedding = weight_matrix.shape[1]\n",
    "    distance_layer_function = manhattan_distance\n",
    "    dropout_rate = hp.Float('dropout_rate', min_value=0.0, max_value=0.5, step=0.1)\n",
    "\n",
    "    ### DEFINITION DES VALEURS A TESTER\n",
    "    optimizer_choice = hp.Choice('optimizer', values=['adam', 'sgd'])\n",
    "    if optimizer_choice == 'adam':\n",
    "        optimizer = tf.keras.optimizers.Adam(learning_rate=learning_rate)\n",
    "    else:\n",
    "        optimizer = tf.keras.optimizers.SGD(learning_rate=learning_rate)\n",
    "\n",
    "    learning_rate = hp.Choice('learning_rate', values=[1e-3, 1e-4, 1e-5])\n",
    "    lstm_neurons = hp.Int('lstm_layers', min_value=64, max_value=256, step=32)\n",
    "\n",
    "\n",
    "    #MODELE\n",
    "    input1 = tf.keras.layers.Input(shape=(input_dim,))\n",
    "    input2 = tf.keras.layers.Input(shape=(input_dim,))\n",
    "    shared_embedding = tf.keras.layers.Embedding(input_dim=input_dim_embedding, output_dim=output_dim_embedding, weights=[weight_matrix])\n",
    "    shared_lstm = tf.keras.layers.LSTM(lstm_neurons)\n",
    "    encoded1 = shared_lstm(shared_embedding(input1))\n",
    "    encoded1 = tf.keras.layers.Dropout(rate=dropout_rate)(encoded1)\n",
    "    encoded2 = shared_lstm(shared_embedding(input2))\n",
    "    encoded2 = tf.keras.layers.Dropout(rate=dropout_rate)(encoded2)\n",
    "    merged_vector = tf.keras.layers.Lambda(lambda x: distance_layer_function(x[0], x[1]))([encoded1, encoded2])\n",
    "    output = tf.keras.layers.Dense(1, activation=\"sigmoid\")(merged_vector)\n",
    "    siamese_net = tf.keras.models.Model(inputs=[input1, input2], outputs=output)\n",
    "    siamese_net.compile(loss=\"binary_crossentropy\", optimizer=optimizer, metrics=['accuracy'])\n",
    "    return siamese_net\n",
    "\n",
    "```\n",
    "- On définit le tuner:\n",
    "\n",
    "```python\n",
    "tuner = kt.RandomSearch(\n",
    "    build_model,\n",
    "    objective='val_accuracy',\n",
    "    max_trials=2,\n",
    "    directory='my_dir',\n",
    "    project_name='my_project')\n",
    "# Early stopping si la validation accuracy ne s'améliore pas\n",
    "stop_early = tf.keras.callbacks.EarlyStopping(monitor='val_accuracy', patience=3)\n",
    "````\n",
    "\n",
    "- On lance le tuner:\n",
    "```python\n",
    "#grid\n",
    "tuner.search(\n",
    "    [train_sentences_1,train_sentences_2],\n",
    "    np.array(train_data[\"label\"]),\n",
    "    epochs=5,\n",
    "    validation_data=([test_sentences_1,test_sentences_2], np.array(test_data[\"label\"])),\n",
    "    callbacks=[stop_early]\n",
    ")\n",
    "```\n",
    "On récupère les meilleurs estimateurs:\n",
    "```python\n",
    "best_hps = tuner.get_best_hyperparameters(num_trials=10)[0]\n",
    "\n",
    "```\n",
    "\n"
   ]
  },
  {
   "cell_type": "markdown",
   "metadata": {},
   "source": [
    "Remarque: nous ne fions pas à 100 % à ce type de méthode mais cela permet quand même d'avoir une overview sur les échelles des paramètres/hyperparamètres finaux:"
   ]
  },
  {
   "cell_type": "code",
   "execution_count": 18,
   "metadata": {},
   "outputs": [
    {
     "name": "stdout",
     "output_type": "stream",
     "text": [
      "Epoch 1/12\n"
     ]
    },
    {
     "name": "stderr",
     "output_type": "stream",
     "text": [
      "2023-03-28 21:21:42.454396: I tensorflow/core/grappler/optimizers/custom_graph_optimizer_registry.cc:113] Plugin optimizer for device_type GPU is enabled.\n",
      "2023-03-28 21:21:42.933520: I tensorflow/core/grappler/optimizers/custom_graph_optimizer_registry.cc:113] Plugin optimizer for device_type GPU is enabled.\n",
      "2023-03-28 21:21:42.936265: I tensorflow/core/grappler/optimizers/custom_graph_optimizer_registry.cc:113] Plugin optimizer for device_type GPU is enabled.\n",
      "2023-03-28 21:21:43.383172: I tensorflow/core/grappler/optimizers/custom_graph_optimizer_registry.cc:113] Plugin optimizer for device_type GPU is enabled.\n",
      "2023-03-28 21:21:43.417440: I tensorflow/core/grappler/optimizers/custom_graph_optimizer_registry.cc:113] Plugin optimizer for device_type GPU is enabled.\n"
     ]
    },
    {
     "name": "stdout",
     "output_type": "stream",
     "text": [
      "11371/11371 [==============================] - ETA: 0s - loss: 0.4599 - binary_crossentropy: 0.4599 - accuracy: 0.7824"
     ]
    },
    {
     "name": "stderr",
     "output_type": "stream",
     "text": [
      "2023-03-28 21:31:45.288381: I tensorflow/core/grappler/optimizers/custom_graph_optimizer_registry.cc:113] Plugin optimizer for device_type GPU is enabled.\n",
      "2023-03-28 21:31:45.503430: I tensorflow/core/grappler/optimizers/custom_graph_optimizer_registry.cc:113] Plugin optimizer for device_type GPU is enabled.\n",
      "2023-03-28 21:31:45.509738: I tensorflow/core/grappler/optimizers/custom_graph_optimizer_registry.cc:113] Plugin optimizer for device_type GPU is enabled.\n"
     ]
    },
    {
     "name": "stdout",
     "output_type": "stream",
     "text": [
      "11371/11371 [==============================] - 618s 54ms/step - loss: 0.4599 - binary_crossentropy: 0.4599 - accuracy: 0.7824 - val_loss: 0.4088 - val_binary_crossentropy: 0.4088 - val_accuracy: 0.8181\n",
      "Epoch 2/12\n",
      " 1186/11371 [==>...........................] - ETA: 5:08:33 - loss: 0.3470 - binary_crossentropy: 0.3470 - accuracy: 0.8529"
     ]
    }
   ],
   "source": [
    "import numpy as np\n",
    "import tensorflow as tf\n",
    "from keras.layers import LSTM\n",
    "from scripts.SiameseLSTM_model import manhattan_distance\n",
    "siamese_lstm_model= SiameseNet(max_len=15,activation_function_output=\"sigmoid\",distance_layer_function=manhattan_distance,hidden_layer_architecture= LSTM,hidden_layer_neurons=128,weight_matrix=weight_matrix,dropout=0.1,bi_directional_architecture_option=True)\n",
    "siamese_lstm_model_history =  siamese_lstm_model.fit(train_sentences_1,train_sentences_2,np.array(train_data[\"label\"]),valid_sentences_1,valid_sentences_2,np.array(valid_data[\"label\"]),cost_function=\"binary_crossentropy\",optimizer=tf.keras.optimizers.Adam(learning_rate=0.001), batch_size=32, epochs=12)"
   ]
  },
  {
   "cell_type": "code",
   "execution_count": null,
   "metadata": {},
   "outputs": [
    {
     "data": {
      "image/png": "[encoded data removed]",
      "text/plain": [
       "<Figure size 640x480 with 1 Axes>"
      ]
     },
     "metadata": {},
     "output_type": "display_data"
    }
   ],
   "source": [
    "import matplotlib.pyplot as plt\n",
    "train_acc = siamese_lstm_model_history.history['accuracy']\n",
    "val_acc = siamese_lstm_model_history.history['val_accuracy']\n",
    "plt.plot(train_acc, label='Training accuracy')\n",
    "plt.plot(val_acc, label='Validation accuracy')\n",
    "plt.legend()\n",
    "plt.xlabel('Epoch')\n",
    "plt.ylabel('Accuracy')\n",
    "\n",
    "plt.show()\n"
   ]
  },
  {
   "cell_type": "markdown",
   "metadata": {},
   "source": [
    "Au vu de ce graphique, fixer un nombre d'epochs à 3 semble être un bon compromis: l'accuracy est assez élevée (0.84) pour l'échantillon de validation et le modèle overfit légèrement (moins de 0.1)"
   ]
  },
  {
   "cell_type": "code",
   "execution_count": 15,
   "metadata": {},
   "outputs": [
    {
     "name": "stdout",
     "output_type": "stream",
     "text": [
      "Metal device set to: Apple M2\n",
      "\n",
      "systemMemory: 16.00 GB\n",
      "maxCacheSize: 5.33 GB\n",
      "\n"
     ]
    },
    {
     "name": "stderr",
     "output_type": "stream",
     "text": [
      "2023-03-28 23:10:56.356825: I tensorflow/core/common_runtime/pluggable_device/pluggable_device_factory.cc:305] Could not identify NUMA node of platform GPU ID 0, defaulting to 0. Your kernel may not have been built with NUMA support.\n",
      "2023-03-28 23:10:56.356943: I tensorflow/core/common_runtime/pluggable_device/pluggable_device_factory.cc:271] Created TensorFlow device (/job:localhost/replica:0/task:0/device:GPU:0 with 0 MB memory) -> physical PluggableDevice (device: 0, name: METAL, pci bus id: <undefined>)\n"
     ]
    },
    {
     "name": "stdout",
     "output_type": "stream",
     "text": [
      "Epoch 1/3\n"
     ]
    },
    {
     "name": "stderr",
     "output_type": "stream",
     "text": [
      "2023-03-28 23:10:56.929448: W tensorflow/core/platform/profile_utils/cpu_utils.cc:128] Failed to get CPU frequency: 0 Hz\n",
      "2023-03-28 23:10:59.219855: I tensorflow/core/grappler/optimizers/custom_graph_optimizer_registry.cc:113] Plugin optimizer for device_type GPU is enabled.\n",
      "2023-03-28 23:10:59.664616: I tensorflow/core/grappler/optimizers/custom_graph_optimizer_registry.cc:113] Plugin optimizer for device_type GPU is enabled.\n",
      "2023-03-28 23:10:59.666073: I tensorflow/core/grappler/optimizers/custom_graph_optimizer_registry.cc:113] Plugin optimizer for device_type GPU is enabled.\n",
      "2023-03-28 23:10:59.677311: I tensorflow/core/grappler/optimizers/custom_graph_optimizer_registry.cc:113] Plugin optimizer for device_type GPU is enabled.\n",
      "2023-03-28 23:10:59.677349: I tensorflow/core/grappler/optimizers/custom_graph_optimizer_registry.cc:113] Plugin optimizer for device_type GPU is enabled.\n",
      "2023-03-28 23:10:59.994665: I tensorflow/core/grappler/optimizers/custom_graph_optimizer_registry.cc:113] Plugin optimizer for device_type GPU is enabled.\n",
      "2023-03-28 23:11:00.011386: I tensorflow/core/grappler/optimizers/custom_graph_optimizer_registry.cc:113] Plugin optimizer for device_type GPU is enabled.\n",
      "2023-03-28 23:11:00.119827: I tensorflow/core/grappler/optimizers/custom_graph_optimizer_registry.cc:113] Plugin optimizer for device_type GPU is enabled.\n",
      "2023-03-28 23:11:00.137089: I tensorflow/core/grappler/optimizers/custom_graph_optimizer_registry.cc:113] Plugin optimizer for device_type GPU is enabled.\n"
     ]
    },
    {
     "name": "stdout",
     "output_type": "stream",
     "text": [
      "11371/11371 [==============================] - ETA: 0s - loss: 0.4630 - binary_crossentropy: 0.4630 - accuracy: 0.7799"
     ]
    },
    {
     "name": "stderr",
     "output_type": "stream",
     "text": [
      "2023-03-28 23:19:19.662322: I tensorflow/core/grappler/optimizers/custom_graph_optimizer_registry.cc:113] Plugin optimizer for device_type GPU is enabled.\n",
      "2023-03-28 23:19:19.852169: I tensorflow/core/grappler/optimizers/custom_graph_optimizer_registry.cc:113] Plugin optimizer for device_type GPU is enabled.\n",
      "2023-03-28 23:19:19.853989: I tensorflow/core/grappler/optimizers/custom_graph_optimizer_registry.cc:113] Plugin optimizer for device_type GPU is enabled.\n",
      "2023-03-28 23:19:19.861438: I tensorflow/core/grappler/optimizers/custom_graph_optimizer_registry.cc:113] Plugin optimizer for device_type GPU is enabled.\n",
      "2023-03-28 23:19:19.862410: I tensorflow/core/grappler/optimizers/custom_graph_optimizer_registry.cc:113] Plugin optimizer for device_type GPU is enabled.\n"
     ]
    },
    {
     "name": "stdout",
     "output_type": "stream",
     "text": [
      "11371/11371 [==============================] - 520s 45ms/step - loss: 0.4630 - binary_crossentropy: 0.4630 - accuracy: 0.7799 - val_loss: 0.4096 - val_binary_crossentropy: 0.4096 - val_accuracy: 0.8165\n",
      "Epoch 2/3\n",
      "11371/11371 [==============================] - 521s 46ms/step - loss: 0.3505 - binary_crossentropy: 0.3505 - accuracy: 0.8504 - val_loss: 0.3878 - val_binary_crossentropy: 0.3878 - val_accuracy: 0.8323\n",
      "Epoch 3/3\n",
      "11371/11371 [==============================] - 525s 46ms/step - loss: 0.2981 - binary_crossentropy: 0.2981 - accuracy: 0.8800 - val_loss: 0.3855 - val_binary_crossentropy: 0.3855 - val_accuracy: 0.8392\n"
     ]
    }
   ],
   "source": [
    "#On réentraîne le modèle avec le bon nombre d'epochs:\n",
    "import numpy as np\n",
    "import tensorflow as tf\n",
    "from keras.layers import LSTM\n",
    "from scripts.SiameseLSTM_model import manhattan_distance\n",
    "siamese_lstm_model= SiameseNet(max_len=15,activation_function_output=\"sigmoid\",distance_layer_function=manhattan_distance,hidden_layer_architecture= LSTM,hidden_layer_neurons=128,weight_matrix=weight_matrix,bi_directional_architecture_option=True)\n",
    "siamese_lstm_model_history =  siamese_lstm_model.fit(train_sentences_1,train_sentences_2,np.array(train_data[\"label\"]),valid_sentences_1,valid_sentences_2,np.array(valid_data[\"label\"]),cost_function=\"binary_crossentropy\",optimizer=tf.keras.optimizers.Adam(learning_rate=0.001), batch_size=32, epochs=3)"
   ]
  },
  {
   "cell_type": "code",
   "execution_count": 16,
   "metadata": {},
   "outputs": [
    {
     "name": "stderr",
     "output_type": "stream",
     "text": [
      "2023-03-28 23:37:04.464637: I tensorflow/core/grappler/optimizers/custom_graph_optimizer_registry.cc:113] Plugin optimizer for device_type GPU is enabled.\n",
      "2023-03-28 23:37:04.688954: I tensorflow/core/grappler/optimizers/custom_graph_optimizer_registry.cc:113] Plugin optimizer for device_type GPU is enabled.\n",
      "2023-03-28 23:37:04.691999: I tensorflow/core/grappler/optimizers/custom_graph_optimizer_registry.cc:113] Plugin optimizer for device_type GPU is enabled.\n",
      "2023-03-28 23:37:04.698276: I tensorflow/core/grappler/optimizers/custom_graph_optimizer_registry.cc:113] Plugin optimizer for device_type GPU is enabled.\n",
      "2023-03-28 23:37:04.700782: I tensorflow/core/grappler/optimizers/custom_graph_optimizer_registry.cc:113] Plugin optimizer for device_type GPU is enabled.\n"
     ]
    },
    {
     "name": "stdout",
     "output_type": "stream",
     "text": [
      "12218/12218 [==============================] - 162s 13ms/step\n"
     ]
    }
   ],
   "source": [
    "preds_model = siamese_lstm_model.predict(test_sentences_1,test_sentences_2)"
   ]
  },
  {
   "cell_type": "code",
   "execution_count": 24,
   "metadata": {},
   "outputs": [
    {
     "data": {
      "text/plain": [
       "0.1"
      ]
     },
     "execution_count": 24,
     "metadata": {},
     "output_type": "execute_result"
    }
   ],
   "source": [
    "siamese_lstm_model."
   ]
  },
  {
   "cell_type": "code",
   "execution_count": 17,
   "metadata": {},
   "outputs": [
    {
     "data": {
      "text/plain": [
       "0.23920555548450628"
      ]
     },
     "execution_count": 17,
     "metadata": {},
     "output_type": "execute_result"
    }
   ],
   "source": [
    "from sklearn.metrics import accuracy_score\n",
    "accuracy_score(np.array(test_data[\"label\"]),preds_model.flatten())"
   ]
  },
  {
   "cell_type": "markdown",
   "metadata": {},
   "source": [
    "Dans un premier temps, nous avons été surpris que le taux de bonne prédiction pour l'échantillon de test soit aussi mauvais. En effet, au vu de la performance sur l'échantillon de validation, nous avions tendance à penser que les performance sur le test serait plutôt bonne. Après diverses réflexions, où nous avons tenté d'autres modèles, nous n'arrivions pas à comprendre les raisons pour lesquelles les performances étaient si mauvaises si ce n'est l'overfitting (qui pourtant a été régularisé en utilisant une couche de dropout).\n",
    "En fait, l'échantillon proposé ici, à savoir l'échantillon test disponible sur [HuggingFace](https://huggingface.co/datasets/bigscience/P3/viewer/glue_qqp_same_thing/test) est composé exclusivement de \"paraphrases\" (300000 paraphrases). Cela a un impact important sur la qualité de la modélisation car le jeu de données n'est pas équilibré. De plus,lorsqu'on regarde les paraphrases, des phrases comme\n",
    "\"Are the questions \"What is the difference between phrasal verbs and prepositional verbs?\" and \"Do you ever notice jealous wives or girlfriends?\" asking the same thing? \" sont considérées comme des paraphrases. On peut donc s'interroger sur la qualité de donnée pour cet échantillon. "
   ]
  },
  {
   "cell_type": "markdown",
   "metadata": {},
   "source": [
    "En ce sens, la métrique sur l'échantillon test n'a pas de sens."
   ]
  },
  {
   "cell_type": "markdown",
   "metadata": {},
   "source": [
    "### Benchmark: Transfer Learning avec BERT\n",
    "\n",
    "Juste pour comparer, nous avons également fine-tuné BERT pour voir les performances en utilisant des Transformers:\n",
    "\n",
    "Nous avons créé une classe dédiée nommée \"BertTransferModel\", s'éxecutant comme ceci (à partir des inputs avant Word Embedding):\n",
    "```python\n",
    "bert_model = BertTransferModel()\n",
    "bert_model.fit(train_data[\"sentences_1\"], train_data[\"sentences_2\"], train_data[\"label\"],validation_data[\"sentences_1\"], validation_data[\"sentences_2\"], validation_data[\"label\"])\n",
    "test_sentences_1 = [\"This is a test.\", \"How are you?\"]\n",
    "test_sentences_2 = [\"It is only a test.\", \"I'm fine, thank you.\"]\n",
    "preds = bert_model.predict(test_sentences_1, test_sentences_2)\n",
    "print(preds)\n",
    "```\n"
   ]
  },
  {
   "cell_type": "markdown",
   "metadata": {},
   "source": [
    "A contrario, le modèle fine-tuné depuis BERT obtient une accuracy de 0.95 sur l'échantillon de test. Il est possible de récupérer les résultats en utilisant le code suivant;"
   ]
  },
  {
   "cell_type": "code",
   "execution_count": null,
   "metadata": {},
   "outputs": [],
   "source": [
    "import torch\n",
    "BertTransferModel().predict(test_sentences_1,test_sentences_2,'models/bert_transfer_model.pth') #Saved model"
   ]
  },
  {
   "cell_type": "markdown",
   "metadata": {},
   "source": [
    "Nous ne souhaitions pas nécéssairement miser sur cette approche mais plutôt montrer l'efficacité de structures traditionnelles tel que le modèle LSTM et sa variante Bi-LSTM.\n",
    "Il faut tout de même avouer que les performances ne sont pas comparables lorsqu'il s'agit de la capacité à généraliser: BERT et le Transfer learning surpasse les structures traditionnelles sur ce jeu de données."
   ]
  }
 ],
 "metadata": {
  "kernelspec": {
   "display_name": "Python 3.8.16 ('dl_gpu')",
   "language": "python",
   "name": "python3"
  },
  "language_info": {
   "codemirror_mode": {
    "name": "ipython",
    "version": 3
   },
   "file_extension": ".py",
   "mimetype": "text/x-python",
   "name": "python",
   "nbconvert_exporter": "python",
   "pygments_lexer": "ipython3",
   "version": "3.8.16"
  },
  "orig_nbformat": 4,
  "vscode": {
   "interpreter": {
    "hash": "58139a97a23f8524c35064e91912c687e768b6a827197604e5a6b0cb6960b4eb"
   }
  }
 },
 "nbformat": 4,
 "nbformat_minor": 2
}
