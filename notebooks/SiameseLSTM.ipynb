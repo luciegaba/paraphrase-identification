{
 "cells": [
  {
   "cell_type": "markdown",
   "metadata": {},
   "source": [
    "# Identification de la paraphrase"
   ]
  },
  {
   "cell_type": "markdown",
   "metadata": {},
   "source": [
    "## Problématique \n",
    "Il s'agit de dire si deux phrases partagent le même sens, ou autrement dit si elles sont paraphrases l'une de l'autre.\n"
   ]
  },
  {
   "cell_type": "markdown",
   "metadata": {},
   "source": [
    "##### Installation de l'environnement"
   ]
  },
  {
   "cell_type": "code",
   "execution_count": 1,
   "metadata": {},
   "outputs": [
    {
     "name": "stdout",
     "output_type": "stream",
     "text": [
      "/Users/luciegabagnou/Documents/MOSEF/ML_AVANCE/PROJET/paraphrase-identification/notebooks\n",
      "Requirement already satisfied: datasets in /Users/luciegabagnou/miniconda/envs/dl_gpu/lib/python3.8/site-packages (from -r requirements.txt (line 1)) (2.10.1)\n",
      "Requirement already satisfied: pandas in /Users/luciegabagnou/miniconda/envs/dl_gpu/lib/python3.8/site-packages (from -r requirements.txt (line 2)) (1.5.3)\n",
      "Requirement already satisfied: numpy in /Users/luciegabagnou/miniconda/envs/dl_gpu/lib/python3.8/site-packages (from -r requirements.txt (line 3)) (1.24.2)\n",
      "Requirement already satisfied: scikit-learn in /Users/luciegabagnou/miniconda/envs/dl_gpu/lib/python3.8/site-packages (from -r requirements.txt (line 4)) (1.2.2)\n",
      "Requirement already satisfied: nltk in /Users/luciegabagnou/miniconda/envs/dl_gpu/lib/python3.8/site-packages (from -r requirements.txt (line 5)) (3.8.1)\n",
      "Requirement already satisfied: matplotlib in /Users/luciegabagnou/miniconda/envs/dl_gpu/lib/python3.8/site-packages (from -r requirements.txt (line 6)) (3.7.1)\n",
      "Requirement already satisfied: gensim in /Users/luciegabagnou/miniconda/envs/dl_gpu/lib/python3.8/site-packages (from -r requirements.txt (line 7)) (4.3.1)\n",
      "Requirement already satisfied: seaborn in /Users/luciegabagnou/miniconda/envs/dl_gpu/lib/python3.8/site-packages (from -r requirements.txt (line 8)) (0.12.2)\n",
      "\u001b[31mERROR: Could not find a version that satisfies the requirement tensorflow (from versions: none)\u001b[0m\u001b[31m\n",
      "\u001b[0m\u001b[31mERROR: No matching distribution found for tensorflow\u001b[0m\u001b[31m\n",
      "\u001b[0m"
     ]
    }
   ],
   "source": [
    "# Installation de l'env\n",
    "import os\n",
    "print(os.getcwd())\n",
    "os.chdir(os.path.dirname(os.getcwd()))\n",
    "# Installation des packages nécessaires à ce projet\n",
    "!pip install -r requirements.txt"
   ]
  },
  {
   "cell_type": "code",
   "execution_count": 2,
   "metadata": {},
   "outputs": [
    {
     "name": "stderr",
     "output_type": "stream",
     "text": [
      "/Users/luciegabagnou/miniconda/envs/dl_gpu/lib/python3.8/site-packages/tqdm/auto.py:21: TqdmWarning: IProgress not found. Please update jupyter and ipywidgets. See https://ipywidgets.readthedocs.io/en/stable/user_install.html\n",
      "  from .autonotebook import tqdm as notebook_tqdm\n",
      "[nltk_data] Downloading package wordnet to\n",
      "[nltk_data]     /Users/luciegabagnou/nltk_data...\n",
      "[nltk_data]   Package wordnet is already up-to-date!\n",
      "[nltk_data] Downloading package punkt to\n",
      "[nltk_data]     /Users/luciegabagnou/nltk_data...\n",
      "[nltk_data]   Package punkt is already up-to-date!\n"
     ]
    }
   ],
   "source": [
    "from scripts.data_utils import HuggingFaceExtracting,ETLPipeline,WordEmbedding\n",
    "from scripts.model import SiameseNet"
   ]
  },
  {
   "cell_type": "markdown",
   "metadata": {},
   "source": [
    "##### Importation des données\n",
    "\n",
    "Ici, pour collecter les données des données nous avons créée une classe **HuggingFaceExtracting** : une classe pour extraire des données à partir de datasets Hugging Face. Elle comprend des méthodes pour extraire les features et les labels, charger des données de datasets Hugging Face, et exporter des données dans un fichier CSV (ou laisser en DataFrame pandas).\n",
    "Pour rendre uniforme les inputs dans la pipeline de preprocessing, nous avons crée une colonne \"inputs\" composée des paires de phrases sous forme de liste, et une \"labels\" ayant les labels bien encodés.\n",
    "\n",
    "\n",
    "A l'origine:\n",
    "On a effectué une analyse sur l'ensemble du jeu de données visible sur [HuggingFace](https://huggingface.co/datasets/bigscience/P3/viewer/glue_qqp_same_thing/). Les colonnes qui vous nous intéressez sont \"inputs_pretokenized\" et \"targets_pretokenized\":\n",
    "- \"inputs_pretokenized\":'Are the questions \"How is the life of a math student? Could you describe your own experiences?\" and \"Which level of prepration is enough for the exam jlpt5?\" asking the same thing? '\n",
    "=> Il s'agit pour chaque observation d'une paire de phrases jointes par \"and\" \n",
    "=> Remarque: il s'agit de questions pour l'ensemble des observations\n",
    "- \"targets_pretokenized\": est-ce que la paire de phrases précédente est une paraphrase ou non? \"yes\" => Il s'agit bien d'une paraphrase et \"no\" les phrases ne sont pas des paraphrases\n",
    "\n",
    "\n",
    "A la fin, on a:\n",
    "\n",
    "- \"inputs\": [\"How is the life of a math student? Could you describe your own experiences?\",\"Which level of prepration is enough for the exam jlpt5?\"] obtenu en utilisant une regex adapté au contexte\n",
    "- \"labels\": On a encodé les labels en {0,1}: 0 => pas de paraphrase , 1 => paraphrase\n",
    "\n",
    "\n"
   ]
  },
  {
   "cell_type": "code",
   "execution_count": 3,
   "metadata": {},
   "outputs": [
    {
     "name": "stderr",
     "output_type": "stream",
     "text": [
      "Found cached dataset p3 (/Users/luciegabagnou/.cache/huggingface/datasets/bigscience___p3/glue_qqp_same_thing/0.1.0/204f22caf7f0cbaf01a8631ec396c1cab69f8d71f276fb8619fae696536874ab)\n",
      "100%|██████████| 3/3 [00:00<00:00, 203.58it/s]\n"
     ]
    }
   ],
   "source": [
    "huggingface_extractor = HuggingFaceExtracting(\"bigscience/P3\",\"glue_qqp_same_thing\")\n",
    "huggingface_extractor.load_huggingface_dataset()"
   ]
  },
  {
   "cell_type": "code",
   "execution_count": 4,
   "metadata": {},
   "outputs": [],
   "source": [
    "train = huggingface_extractor.extract(\"train\")\n",
    "test = huggingface_extractor.extract(\"test\")\n",
    "validation = huggingface_extractor.extract(\"validation\")"
   ]
  },
  {
   "cell_type": "code",
   "execution_count": 5,
   "metadata": {},
   "outputs": [
    {
     "data": {
      "text/html": [
       "<div>\n",
       "<style scoped>\n",
       "    .dataframe tbody tr th:only-of-type {\n",
       "        vertical-align: middle;\n",
       "    }\n",
       "\n",
       "    .dataframe tbody tr th {\n",
       "        vertical-align: top;\n",
       "    }\n",
       "\n",
       "    .dataframe thead th {\n",
       "        text-align: right;\n",
       "    }\n",
       "</style>\n",
       "<table border=\"1\" class=\"dataframe\">\n",
       "  <thead>\n",
       "    <tr style=\"text-align: right;\">\n",
       "      <th></th>\n",
       "      <th>inputs</th>\n",
       "      <th>labels</th>\n",
       "    </tr>\n",
       "  </thead>\n",
       "  <tbody>\n",
       "    <tr>\n",
       "      <th>0</th>\n",
       "      <td>[How is the life of a math student? Could you ...</td>\n",
       "      <td>0</td>\n",
       "    </tr>\n",
       "    <tr>\n",
       "      <th>1</th>\n",
       "      <td>[How do I control my horny emotions?, How do y...</td>\n",
       "      <td>1</td>\n",
       "    </tr>\n",
       "    <tr>\n",
       "      <th>2</th>\n",
       "      <td>[What causes stool color to change to yellow?,...</td>\n",
       "      <td>0</td>\n",
       "    </tr>\n",
       "    <tr>\n",
       "      <th>3</th>\n",
       "      <td>[What can one do after MBBS?, What do i do aft...</td>\n",
       "      <td>1</td>\n",
       "    </tr>\n",
       "    <tr>\n",
       "      <th>4</th>\n",
       "      <td>[Where can I find a power outlet for my laptop...</td>\n",
       "      <td>0</td>\n",
       "    </tr>\n",
       "  </tbody>\n",
       "</table>\n",
       "</div>"
      ],
      "text/plain": [
       "                                              inputs  labels\n",
       "0  [How is the life of a math student? Could you ...       0\n",
       "1  [How do I control my horny emotions?, How do y...       1\n",
       "2  [What causes stool color to change to yellow?,...       0\n",
       "3  [What can one do after MBBS?, What do i do aft...       1\n",
       "4  [Where can I find a power outlet for my laptop...       0"
      ]
     },
     "execution_count": 5,
     "metadata": {},
     "output_type": "execute_result"
    }
   ],
   "source": [
    "train.head()"
   ]
  },
  {
   "cell_type": "markdown",
   "metadata": {},
   "source": [
    "### EDA \n",
    "Il y a 363846 observations (paires de phrases + targets) dans l'échantillon de train, 390965 dans l'échantillon de test, et 40430 dans l'échantillon de validation. Au total, on compte donc 795241 observations.\n",
    "\n",
    "Dans un premier temps, on a réalisé une analyse exploratoire du jeu de données (dans sa globalité) pour comprendre quel était le type de données auquel nous étions confronté. \n",
    "\n"
   ]
  },
  {
   "cell_type": "code",
   "execution_count": 6,
   "metadata": {},
   "outputs": [],
   "source": [
    "import pandas as pd\n",
    "import matplotlib.pyplot as plt\n",
    "import seaborn as sns\n",
    "def flatten(l):\n",
    "    return [item for sublist in l for item in sublist]"
   ]
  },
  {
   "cell_type": "code",
   "execution_count": 7,
   "metadata": {},
   "outputs": [],
   "source": [
    "data = pd.concat([train,test,validation],axis=0).reset_index()\n",
    "sentences = data[\"inputs\"].values.tolist()\n",
    "sentences=flatten(sentences)"
   ]
  },
  {
   "cell_type": "code",
   "execution_count": 8,
   "metadata": {},
   "outputs": [
    {
     "name": "stdout",
     "output_type": "stream",
     "text": [
      "Nombre de mots median dans la phrase 10\n"
     ]
    },
    {
     "data": {
      "image/png": "[encoded data removed]",
      "text/plain": [
       "<Figure size 640x480 with 1 Axes>"
      ]
     },
     "metadata": {},
     "output_type": "display_data"
    }
   ],
   "source": [
    "lenght=pd.Series(sentences).apply(lambda x: len(x.split()))\n",
    "sns.histplot(lenght)\n",
    "print(\"Nombre de mots median dans la phrase\",round(lenght.median()))"
   ]
  },
  {
   "cell_type": "code",
   "execution_count": 9,
   "metadata": {},
   "outputs": [
    {
     "data": {
      "text/plain": [
       "count    1.590482e+06\n",
       "mean     1.112469e+01\n",
       "std      5.822297e+00\n",
       "min      0.000000e+00\n",
       "25%      7.000000e+00\n",
       "50%      1.000000e+01\n",
       "75%      1.300000e+01\n",
       "max      2.370000e+02\n",
       "dtype: float64"
      ]
     },
     "execution_count": 9,
     "metadata": {},
     "output_type": "execute_result"
    }
   ],
   "source": [
    "lenght.describe()"
   ]
  },
  {
   "cell_type": "markdown",
   "metadata": {},
   "source": [
    "### Synthèse de l'analyse exploratoire\n",
    "- Syntaxe : Puisque toutes les observations sont des questions, leur syntaxe devrait être plutôt similaire. Ainsi, la syntaxe n'est pas un facteur qu'il faut inclure dans notre analyse en tant que caractéristique. Cependant, si nous observions une variété de structures, cela pourrait créer de l'hétérogénéité dans les observations. Dans ce cas, nous devrions réaligner toutes les phrases pour qu'elles aient une structure similaire afin de les comparer. Par conséquent, nous pouvons simplifier notre analyse en nous concentrant sur le contenu sémantique des questions plutôt que sur leur structure syntaxique, qui est relativement simple dans ce cas. \n",
    "- Les mots: La longueur des phrases est plutôt homogène et est concentré autour de 10 mots et 75% des phrases ont une longueur inférieure à 13 mots. En ce qui concerne le lexique, nous ne devrons pas nous focaliser dessus pour discriminer les observations les unes des autres (contrairement à la classification de documents qui se concentre sur le vocabulaire). \n",
    "- Langue: Le modèle sera propre à l'anglais vu qu'il s'agit de l'unique langue employé dans les phrases."
   ]
  },
  {
   "cell_type": "markdown",
   "metadata": {},
   "source": [
    "## Preprocessing\n",
    "Pour cette partie, nous avons créé une classe **ETLPipeline** : une classe représentant un pipeline ETL pour les datasets de texte. Elle comprend des méthodes pour normaliser les entrées, transformer les paires de phrases et les étiquettes en entrées appropriées pour un modèle de classification de texte, et exporter des données.\n",
    "La fonction principale qui traite le processing du texte est:\n",
    "\n",
    "\n",
    "```python\n",
    "def standardize_text_inputs(self, input_data):\n",
    "    self.lemmatizer = WordNetLemmatizer()\n",
    "    \n",
    "    def process_sentence(sentence):\n",
    "        sentence = contractions.fix(sentence)\n",
    "        sentence = sentence.replace('\"', \"\").replace('?', \"\")\n",
    "        tokens = nltk.word_tokenize(sentence.lower())\n",
    "        if self.lemmatize_option is True:\n",
    "            return [self.lemmatizer.lemmatize(word) for word in tokens if word.isalpha()]\n",
    "        else:\n",
    "            return [word for word in tokens if word.isalpha()]\n",
    "\n",
    "    all_tokens = [process_sentence(sentence) for sentence in input_data]\n",
    "\n",
    "    if self.join_option:\n",
    "        all_tokens = [\" \".join(tokens) for tokens in all_tokens]\n",
    "        \n",
    "    return all_tokens\n",
    "        \n",
    "```\n",
    "Comme on peut le voir, elle effectue différents étapes: \n",
    "- enlève les contractions du type \"I'm\" et les convertit en \"I am\"\n",
    "- remplace les signes de ponctuations parasites tel que \"\"\"\" et \"?\"\n",
    "- met en minuscules les caractères et découpe en tokens les mots (selon nltk)\n",
    "- si souhaité, la fonction lemmatise ce qui peut permettre d'uniformiser les mots en cas de pluriel, conjugaison..\n",
    "- enfin on garde uniquement les élements sont des lettres\n",
    "- selon le word embedding utilisé, on laisse le choix à l'utilisateur de s'il souhaite récupérer la phrase préprocessé sous forme de liste de tokens ou bien d'une phrase."
   ]
  },
  {
   "cell_type": "code",
   "execution_count": 10,
   "metadata": {},
   "outputs": [],
   "source": [
    "preprocessor = ETLPipeline()\n",
    "#La \"méthode\" exécute l'ensemble de la pipeline\n",
    "train_data = preprocessor.transform(train)\n",
    "test_data = preprocessor.transform(test)"
   ]
  },
  {
   "cell_type": "markdown",
   "metadata": {},
   "source": [
    "## Word Embedding\n",
    "Dans cette partie, nous avons utilisé la classe **WordEmbedding**: elle est utilisée pour créer une représentation vectorielle pour les mots en utilisant un modèle d'embedding de mots pré-entraîné. La classe possède des méthodes:\n",
    "-  pour fit un tokenizer sur les données d'entraînement (ensemble des phrases)\n",
    "- pour tokenizer et padder (vectoriser et uniformiser la longueur) des séquences d'entrée (sur les phrases 1 puis 2 respectivement)\n",
    "- pour charger le modèle pré-entraîné (qui devront être accessibles dans models)\n",
    "- pour construire une matrice de poids qui sera utilisée pour initialiser les poids de la couche d'embedding dans un modèle de réseau de neurones: il s'agit d'une couche partagée entre les deux inputs (les deux phrases d'entrée) et les mêmes poids sont utilisés pour vectoriser toutes les phrases (même si c'est sur 2 branches différentes).\n",
    "\n",
    "Ici, nous faisons un zoom sur la construction de la matrice des poids:\n",
    "\n",
    "```` python\n",
    "def build_weight_matrix(self):\n",
    "    vocab_size = len(self.tokenizer.word_index) + 1\n",
    "    weight_matrix = np.zeros((vocab_size, self.embedding_size))\n",
    "    for word, i in self.tokenizer.word_index.items():\n",
    "        try:\n",
    "            embedding_vector = self.pretrained_model[word]\n",
    "            weight_matrix[i] = embedding_vector\n",
    "        except KeyError:\n",
    "            weight_matrix[i] = np.random.uniform(-5, 5, self.embedding_size)\n",
    "    return weight_matrix\n",
    "````\n",
    "Comme on peut le voir, la fonction construit une matrice de poids à partir d'un modèle d'embedding de mots pré-entraîné et d'un tokenizer. La matrice de poids est utilisée pour initialiser les poids de la couche d'embedding dans un modèle de réseau de neurones.\n",
    "Plus précisément, pour chaque mot dans le vocabulaire, la méthode tente de récupérer son vecteur d'embedding à partir du modèle d'embedding pré-entraîné. Si le mot est présent dans le modèle, la méthode utilise son vecteur d'embedding comme poids pour la ligne correspondante dans la matrice de poids. Si le mot n'est pas présent dans le modèle, la méthode initialise une ligne aléatoire de la matrice de poids avec des valeurs uniformément distribuées entre -5 et 5.\n",
    "\n",
    "\n"
   ]
  },
  {
   "cell_type": "markdown",
   "metadata": {},
   "source": [
    "Ici, on a utilisé un modèle FastText (explication dans le rapport) car il semblait le plus adapté pour traiter les mots \"hors vocabulaire\" c'est-à-dire les mots non connus lors de la prédiction (si typiquement un mot d'une prédiction n'était pas présent dans l'échantillon d'apprentissage). \n",
    "Nous tenterons plus tard de changer de modèle en utilisant Word2Vec pour voir si cela peut améliorer les performances.\n"
   ]
  },
  {
   "cell_type": "markdown",
   "metadata": {},
   "source": [
    "Ici, on effectue différentes étapes:\n",
    "- On instancie l'objet qui fait le word-embedding en indiquant le type de modèle pré-entraîné et le chemin d'accès du modèle utilisé\n",
    "- On ajuste le tokenizer propre au modèle à partir du corpus de texte d'entraînement (il s'agit d'une vectorisation simple)\n",
    "- On charge le modèle pré-entrainé \n",
    "- On récupère les inputs tokenizés et uniformisés en longueur\n",
    "- On créée une matrice de poids basé sur la fonction vu précédemment\n"
   ]
  },
  {
   "cell_type": "code",
   "execution_count": 11,
   "metadata": {},
   "outputs": [
    {
     "name": "stderr",
     "output_type": "stream",
     "text": [
      "Warning : `load_model` does not return WordVectorModel or SupervisedModel any more, but a `FastText` object which is very similar.\n"
     ]
    }
   ],
   "source": [
    "\n",
    "word_embedder = WordEmbedding(15,\"FastText\",\"cc.en.100.bin\")\n",
    "word_embedder.tokenizer(train_data[\"sentences_1\"]+ train_data[\"sentences_2\"])\n",
    "word_embedder.load_pretrained_model()\n",
    "train_sentences_1 = word_embedder.tokenize_and_pad(train_data[\"sentences_1\"])\n",
    "train_sentences_2 = word_embedder.tokenize_and_pad(train_data[\"sentences_2\"])"
   ]
  },
  {
   "cell_type": "code",
   "execution_count": 12,
   "metadata": {},
   "outputs": [],
   "source": [
    "weight_matrix = word_embedder.build_weight_matrix()"
   ]
  },
  {
   "cell_type": "code",
   "execution_count": 13,
   "metadata": {},
   "outputs": [],
   "source": [
    "#On fait la même chose pour l'échantillon de test\n",
    "test_data = preprocessor.transform(test)\n",
    "test_sentences_1 = word_embedder.tokenize_and_pad(test_data[\"sentences_1\"])\n",
    "test_sentences_2 = word_embedder.tokenize_and_pad(test_data[\"sentences_2\"])"
   ]
  },
  {
   "cell_type": "code",
   "execution_count": 14,
   "metadata": {},
   "outputs": [
    {
     "name": "stdout",
     "output_type": "stream",
     "text": [
      "INFO:tensorflow:Reloading Oracle from existing project my_dir/my_project/oracle.json\n",
      "Metal device set to: Apple M2\n",
      "\n",
      "systemMemory: 16.00 GB\n",
      "maxCacheSize: 5.33 GB\n",
      "\n"
     ]
    },
    {
     "name": "stderr",
     "output_type": "stream",
     "text": [
      "2023-03-27 07:43:24.571300: I tensorflow/core/common_runtime/pluggable_device/pluggable_device_factory.cc:305] Could not identify NUMA node of platform GPU ID 0, defaulting to 0. Your kernel may not have been built with NUMA support.\n",
      "2023-03-27 07:43:24.571401: I tensorflow/core/common_runtime/pluggable_device/pluggable_device_factory.cc:271] Created TensorFlow device (/job:localhost/replica:0/task:0/device:GPU:0 with 0 MB memory) -> physical PluggableDevice (device: 0, name: METAL, pci bus id: <undefined>)\n"
     ]
    },
    {
     "name": "stdout",
     "output_type": "stream",
     "text": [
      "INFO:tensorflow:Reloading Tuner from my_dir/my_project/tuner0.json\n",
      "\n",
      "Search: Running Trial #2\n",
      "\n",
      "Value             |Best Value So Far |Hyperparameter\n",
      "96                |256               |lstm_layers\n",
      "rmsprop           |rmsprop           |optimizer\n",
      "1e-05             |0.001             |learning_rate\n",
      "\n",
      "Epoch 1/5\n"
     ]
    },
    {
     "name": "stderr",
     "output_type": "stream",
     "text": [
      "2023-03-27 07:43:25.757600: W tensorflow/core/platform/profile_utils/cpu_utils.cc:128] Failed to get CPU frequency: 0 Hz\n",
      "2023-03-27 07:43:26.948914: I tensorflow/core/grappler/optimizers/custom_graph_optimizer_registry.cc:113] Plugin optimizer for device_type GPU is enabled.\n",
      "2023-03-27 07:43:27.262295: I tensorflow/core/grappler/optimizers/custom_graph_optimizer_registry.cc:113] Plugin optimizer for device_type GPU is enabled.\n",
      "2023-03-27 07:43:27.262769: I tensorflow/core/grappler/optimizers/custom_graph_optimizer_registry.cc:113] Plugin optimizer for device_type GPU is enabled.\n",
      "2023-03-27 07:43:27.692539: I tensorflow/core/grappler/optimizers/custom_graph_optimizer_registry.cc:113] Plugin optimizer for device_type GPU is enabled.\n",
      "2023-03-27 07:43:27.713331: I tensorflow/core/grappler/optimizers/custom_graph_optimizer_registry.cc:113] Plugin optimizer for device_type GPU is enabled.\n"
     ]
    },
    {
     "name": "stdout",
     "output_type": "stream",
     "text": [
      "   19/11371 [..............................] - ETA: 9:02 - loss: 0.3013 - accuracy: 0.5641"
     ]
    },
    {
     "ename": "KeyboardInterrupt",
     "evalue": "",
     "output_type": "error",
     "traceback": [
      "\u001b[0;31m---------------------------------------------------------------------------\u001b[0m",
      "\u001b[0;31mKeyboardInterrupt\u001b[0m                         Traceback (most recent call last)",
      "Cell \u001b[0;32mIn[14], line 63\u001b[0m\n\u001b[1;32m     60\u001b[0m stop_early \u001b[39m=\u001b[39m tf\u001b[39m.\u001b[39mkeras\u001b[39m.\u001b[39mcallbacks\u001b[39m.\u001b[39mEarlyStopping(monitor\u001b[39m=\u001b[39m\u001b[39m'\u001b[39m\u001b[39mval_accuracy\u001b[39m\u001b[39m'\u001b[39m, patience\u001b[39m=\u001b[39m\u001b[39m3\u001b[39m)\n\u001b[1;32m     62\u001b[0m \u001b[39m# Search for the best hyperparameters\u001b[39;00m\n\u001b[0;32m---> 63\u001b[0m tuner\u001b[39m.\u001b[39;49msearch(\n\u001b[1;32m     64\u001b[0m     [train_sentences_1,train_sentences_2],\n\u001b[1;32m     65\u001b[0m     np\u001b[39m.\u001b[39;49marray(train_data[\u001b[39m\"\u001b[39;49m\u001b[39mlabel\u001b[39;49m\u001b[39m\"\u001b[39;49m]),\n\u001b[1;32m     66\u001b[0m     epochs\u001b[39m=\u001b[39;49m\u001b[39m5\u001b[39;49m,\n\u001b[1;32m     67\u001b[0m     validation_data\u001b[39m=\u001b[39;49m([test_sentences_1,test_sentences_2], np\u001b[39m.\u001b[39;49marray(test_data[\u001b[39m\"\u001b[39;49m\u001b[39mlabel\u001b[39;49m\u001b[39m\"\u001b[39;49m])),\n\u001b[1;32m     68\u001b[0m     callbacks\u001b[39m=\u001b[39;49m[stop_early]\n\u001b[1;32m     69\u001b[0m )\n\u001b[1;32m     71\u001b[0m \u001b[39m# Get the best hyperparameters\u001b[39;00m\n\u001b[1;32m     72\u001b[0m best_hps \u001b[39m=\u001b[39m tuner\u001b[39m.\u001b[39mget_best_hyperparameters(num_trials\u001b[39m=\u001b[39m\u001b[39m10\u001b[39m)[\u001b[39m0\u001b[39m]\n",
      "File \u001b[0;32m~/miniconda/envs/dl_gpu/lib/python3.8/site-packages/keras_tuner/engine/base_tuner.py:183\u001b[0m, in \u001b[0;36mBaseTuner.search\u001b[0;34m(self, *fit_args, **fit_kwargs)\u001b[0m\n\u001b[1;32m    180\u001b[0m     \u001b[39mcontinue\u001b[39;00m\n\u001b[1;32m    182\u001b[0m \u001b[39mself\u001b[39m\u001b[39m.\u001b[39mon_trial_begin(trial)\n\u001b[0;32m--> 183\u001b[0m results \u001b[39m=\u001b[39m \u001b[39mself\u001b[39;49m\u001b[39m.\u001b[39;49mrun_trial(trial, \u001b[39m*\u001b[39;49mfit_args, \u001b[39m*\u001b[39;49m\u001b[39m*\u001b[39;49mfit_kwargs)\n\u001b[1;32m    184\u001b[0m \u001b[39m# `results` is None indicates user updated oracle in `run_trial()`.\u001b[39;00m\n\u001b[1;32m    185\u001b[0m \u001b[39mif\u001b[39;00m results \u001b[39mis\u001b[39;00m \u001b[39mNone\u001b[39;00m:\n",
      "File \u001b[0;32m~/miniconda/envs/dl_gpu/lib/python3.8/site-packages/keras_tuner/engine/tuner.py:295\u001b[0m, in \u001b[0;36mTuner.run_trial\u001b[0;34m(self, trial, *args, **kwargs)\u001b[0m\n\u001b[1;32m    293\u001b[0m     callbacks\u001b[39m.\u001b[39mappend(model_checkpoint)\n\u001b[1;32m    294\u001b[0m     copied_kwargs[\u001b[39m\"\u001b[39m\u001b[39mcallbacks\u001b[39m\u001b[39m\"\u001b[39m] \u001b[39m=\u001b[39m callbacks\n\u001b[0;32m--> 295\u001b[0m     obj_value \u001b[39m=\u001b[39m \u001b[39mself\u001b[39;49m\u001b[39m.\u001b[39;49m_build_and_fit_model(trial, \u001b[39m*\u001b[39;49margs, \u001b[39m*\u001b[39;49m\u001b[39m*\u001b[39;49mcopied_kwargs)\n\u001b[1;32m    297\u001b[0m     histories\u001b[39m.\u001b[39mappend(obj_value)\n\u001b[1;32m    298\u001b[0m \u001b[39mreturn\u001b[39;00m histories\n",
      "File \u001b[0;32m~/miniconda/envs/dl_gpu/lib/python3.8/site-packages/keras_tuner/engine/tuner.py:222\u001b[0m, in \u001b[0;36mTuner._build_and_fit_model\u001b[0;34m(self, trial, *args, **kwargs)\u001b[0m\n\u001b[1;32m    220\u001b[0m hp \u001b[39m=\u001b[39m trial\u001b[39m.\u001b[39mhyperparameters\n\u001b[1;32m    221\u001b[0m model \u001b[39m=\u001b[39m \u001b[39mself\u001b[39m\u001b[39m.\u001b[39m_try_build(hp)\n\u001b[0;32m--> 222\u001b[0m results \u001b[39m=\u001b[39m \u001b[39mself\u001b[39;49m\u001b[39m.\u001b[39;49mhypermodel\u001b[39m.\u001b[39;49mfit(hp, model, \u001b[39m*\u001b[39;49margs, \u001b[39m*\u001b[39;49m\u001b[39m*\u001b[39;49mkwargs)\n\u001b[1;32m    223\u001b[0m tuner_utils\u001b[39m.\u001b[39mvalidate_trial_results(\n\u001b[1;32m    224\u001b[0m     results, \u001b[39mself\u001b[39m\u001b[39m.\u001b[39moracle\u001b[39m.\u001b[39mobjective, \u001b[39m\"\u001b[39m\u001b[39mHyperModel.fit()\u001b[39m\u001b[39m\"\u001b[39m\n\u001b[1;32m    225\u001b[0m )\n\u001b[1;32m    226\u001b[0m \u001b[39mreturn\u001b[39;00m results\n",
      "File \u001b[0;32m~/miniconda/envs/dl_gpu/lib/python3.8/site-packages/keras_tuner/engine/hypermodel.py:140\u001b[0m, in \u001b[0;36mHyperModel.fit\u001b[0;34m(self, hp, model, *args, **kwargs)\u001b[0m\n\u001b[1;32m    116\u001b[0m \u001b[39mdef\u001b[39;00m \u001b[39mfit\u001b[39m(\u001b[39mself\u001b[39m, hp, model, \u001b[39m*\u001b[39margs, \u001b[39m*\u001b[39m\u001b[39m*\u001b[39mkwargs):\n\u001b[1;32m    117\u001b[0m \u001b[39m    \u001b[39m\u001b[39m\"\"\"Train the model.\u001b[39;00m\n\u001b[1;32m    118\u001b[0m \n\u001b[1;32m    119\u001b[0m \u001b[39m    Args:\u001b[39;00m\n\u001b[0;32m   (...)\u001b[0m\n\u001b[1;32m    138\u001b[0m \u001b[39m        If return a float, it should be the `objective` value.\u001b[39;00m\n\u001b[1;32m    139\u001b[0m \u001b[39m    \"\"\"\u001b[39;00m\n\u001b[0;32m--> 140\u001b[0m     \u001b[39mreturn\u001b[39;00m model\u001b[39m.\u001b[39;49mfit(\u001b[39m*\u001b[39;49margs, \u001b[39m*\u001b[39;49m\u001b[39m*\u001b[39;49mkwargs)\n",
      "File \u001b[0;32m~/miniconda/envs/dl_gpu/lib/python3.8/site-packages/keras/utils/traceback_utils.py:64\u001b[0m, in \u001b[0;36mfilter_traceback.<locals>.error_handler\u001b[0;34m(*args, **kwargs)\u001b[0m\n\u001b[1;32m     62\u001b[0m filtered_tb \u001b[39m=\u001b[39m \u001b[39mNone\u001b[39;00m\n\u001b[1;32m     63\u001b[0m \u001b[39mtry\u001b[39;00m:\n\u001b[0;32m---> 64\u001b[0m   \u001b[39mreturn\u001b[39;00m fn(\u001b[39m*\u001b[39;49margs, \u001b[39m*\u001b[39;49m\u001b[39m*\u001b[39;49mkwargs)\n\u001b[1;32m     65\u001b[0m \u001b[39mexcept\u001b[39;00m \u001b[39mException\u001b[39;00m \u001b[39mas\u001b[39;00m e:  \u001b[39m# pylint: disable=broad-except\u001b[39;00m\n\u001b[1;32m     66\u001b[0m   filtered_tb \u001b[39m=\u001b[39m _process_traceback_frames(e\u001b[39m.\u001b[39m__traceback__)\n",
      "File \u001b[0;32m~/miniconda/envs/dl_gpu/lib/python3.8/site-packages/keras/engine/training.py:1409\u001b[0m, in \u001b[0;36mModel.fit\u001b[0;34m(self, x, y, batch_size, epochs, verbose, callbacks, validation_split, validation_data, shuffle, class_weight, sample_weight, initial_epoch, steps_per_epoch, validation_steps, validation_batch_size, validation_freq, max_queue_size, workers, use_multiprocessing)\u001b[0m\n\u001b[1;32m   1402\u001b[0m \u001b[39mwith\u001b[39;00m tf\u001b[39m.\u001b[39mprofiler\u001b[39m.\u001b[39mexperimental\u001b[39m.\u001b[39mTrace(\n\u001b[1;32m   1403\u001b[0m     \u001b[39m'\u001b[39m\u001b[39mtrain\u001b[39m\u001b[39m'\u001b[39m,\n\u001b[1;32m   1404\u001b[0m     epoch_num\u001b[39m=\u001b[39mepoch,\n\u001b[1;32m   1405\u001b[0m     step_num\u001b[39m=\u001b[39mstep,\n\u001b[1;32m   1406\u001b[0m     batch_size\u001b[39m=\u001b[39mbatch_size,\n\u001b[1;32m   1407\u001b[0m     _r\u001b[39m=\u001b[39m\u001b[39m1\u001b[39m):\n\u001b[1;32m   1408\u001b[0m   callbacks\u001b[39m.\u001b[39mon_train_batch_begin(step)\n\u001b[0;32m-> 1409\u001b[0m   tmp_logs \u001b[39m=\u001b[39m \u001b[39mself\u001b[39;49m\u001b[39m.\u001b[39;49mtrain_function(iterator)\n\u001b[1;32m   1410\u001b[0m   \u001b[39mif\u001b[39;00m data_handler\u001b[39m.\u001b[39mshould_sync:\n\u001b[1;32m   1411\u001b[0m     context\u001b[39m.\u001b[39masync_wait()\n",
      "File \u001b[0;32m~/miniconda/envs/dl_gpu/lib/python3.8/site-packages/tensorflow/python/util/traceback_utils.py:150\u001b[0m, in \u001b[0;36mfilter_traceback.<locals>.error_handler\u001b[0;34m(*args, **kwargs)\u001b[0m\n\u001b[1;32m    148\u001b[0m filtered_tb \u001b[39m=\u001b[39m \u001b[39mNone\u001b[39;00m\n\u001b[1;32m    149\u001b[0m \u001b[39mtry\u001b[39;00m:\n\u001b[0;32m--> 150\u001b[0m   \u001b[39mreturn\u001b[39;00m fn(\u001b[39m*\u001b[39;49margs, \u001b[39m*\u001b[39;49m\u001b[39m*\u001b[39;49mkwargs)\n\u001b[1;32m    151\u001b[0m \u001b[39mexcept\u001b[39;00m \u001b[39mException\u001b[39;00m \u001b[39mas\u001b[39;00m e:\n\u001b[1;32m    152\u001b[0m   filtered_tb \u001b[39m=\u001b[39m _process_traceback_frames(e\u001b[39m.\u001b[39m__traceback__)\n",
      "File \u001b[0;32m~/miniconda/envs/dl_gpu/lib/python3.8/site-packages/tensorflow/python/eager/def_function.py:915\u001b[0m, in \u001b[0;36mFunction.__call__\u001b[0;34m(self, *args, **kwds)\u001b[0m\n\u001b[1;32m    912\u001b[0m compiler \u001b[39m=\u001b[39m \u001b[39m\"\u001b[39m\u001b[39mxla\u001b[39m\u001b[39m\"\u001b[39m \u001b[39mif\u001b[39;00m \u001b[39mself\u001b[39m\u001b[39m.\u001b[39m_jit_compile \u001b[39melse\u001b[39;00m \u001b[39m\"\u001b[39m\u001b[39mnonXla\u001b[39m\u001b[39m\"\u001b[39m\n\u001b[1;32m    914\u001b[0m \u001b[39mwith\u001b[39;00m OptionalXlaContext(\u001b[39mself\u001b[39m\u001b[39m.\u001b[39m_jit_compile):\n\u001b[0;32m--> 915\u001b[0m   result \u001b[39m=\u001b[39m \u001b[39mself\u001b[39;49m\u001b[39m.\u001b[39;49m_call(\u001b[39m*\u001b[39;49margs, \u001b[39m*\u001b[39;49m\u001b[39m*\u001b[39;49mkwds)\n\u001b[1;32m    917\u001b[0m new_tracing_count \u001b[39m=\u001b[39m \u001b[39mself\u001b[39m\u001b[39m.\u001b[39mexperimental_get_tracing_count()\n\u001b[1;32m    918\u001b[0m without_tracing \u001b[39m=\u001b[39m (tracing_count \u001b[39m==\u001b[39m new_tracing_count)\n",
      "File \u001b[0;32m~/miniconda/envs/dl_gpu/lib/python3.8/site-packages/tensorflow/python/eager/def_function.py:947\u001b[0m, in \u001b[0;36mFunction._call\u001b[0;34m(self, *args, **kwds)\u001b[0m\n\u001b[1;32m    944\u001b[0m   \u001b[39mself\u001b[39m\u001b[39m.\u001b[39m_lock\u001b[39m.\u001b[39mrelease()\n\u001b[1;32m    945\u001b[0m   \u001b[39m# In this case we have created variables on the first call, so we run the\u001b[39;00m\n\u001b[1;32m    946\u001b[0m   \u001b[39m# defunned version which is guaranteed to never create variables.\u001b[39;00m\n\u001b[0;32m--> 947\u001b[0m   \u001b[39mreturn\u001b[39;00m \u001b[39mself\u001b[39;49m\u001b[39m.\u001b[39;49m_stateless_fn(\u001b[39m*\u001b[39;49margs, \u001b[39m*\u001b[39;49m\u001b[39m*\u001b[39;49mkwds)  \u001b[39m# pylint: disable=not-callable\u001b[39;00m\n\u001b[1;32m    948\u001b[0m \u001b[39melif\u001b[39;00m \u001b[39mself\u001b[39m\u001b[39m.\u001b[39m_stateful_fn \u001b[39mis\u001b[39;00m \u001b[39mnot\u001b[39;00m \u001b[39mNone\u001b[39;00m:\n\u001b[1;32m    949\u001b[0m   \u001b[39m# Release the lock early so that multiple threads can perform the call\u001b[39;00m\n\u001b[1;32m    950\u001b[0m   \u001b[39m# in parallel.\u001b[39;00m\n\u001b[1;32m    951\u001b[0m   \u001b[39mself\u001b[39m\u001b[39m.\u001b[39m_lock\u001b[39m.\u001b[39mrelease()\n",
      "File \u001b[0;32m~/miniconda/envs/dl_gpu/lib/python3.8/site-packages/tensorflow/python/eager/function.py:2453\u001b[0m, in \u001b[0;36mFunction.__call__\u001b[0;34m(self, *args, **kwargs)\u001b[0m\n\u001b[1;32m   2450\u001b[0m \u001b[39mwith\u001b[39;00m \u001b[39mself\u001b[39m\u001b[39m.\u001b[39m_lock:\n\u001b[1;32m   2451\u001b[0m   (graph_function,\n\u001b[1;32m   2452\u001b[0m    filtered_flat_args) \u001b[39m=\u001b[39m \u001b[39mself\u001b[39m\u001b[39m.\u001b[39m_maybe_define_function(args, kwargs)\n\u001b[0;32m-> 2453\u001b[0m \u001b[39mreturn\u001b[39;00m graph_function\u001b[39m.\u001b[39;49m_call_flat(\n\u001b[1;32m   2454\u001b[0m     filtered_flat_args, captured_inputs\u001b[39m=\u001b[39;49mgraph_function\u001b[39m.\u001b[39;49mcaptured_inputs)\n",
      "File \u001b[0;32m~/miniconda/envs/dl_gpu/lib/python3.8/site-packages/tensorflow/python/eager/function.py:1860\u001b[0m, in \u001b[0;36mConcreteFunction._call_flat\u001b[0;34m(self, args, captured_inputs, cancellation_manager)\u001b[0m\n\u001b[1;32m   1856\u001b[0m possible_gradient_type \u001b[39m=\u001b[39m gradients_util\u001b[39m.\u001b[39mPossibleTapeGradientTypes(args)\n\u001b[1;32m   1857\u001b[0m \u001b[39mif\u001b[39;00m (possible_gradient_type \u001b[39m==\u001b[39m gradients_util\u001b[39m.\u001b[39mPOSSIBLE_GRADIENT_TYPES_NONE\n\u001b[1;32m   1858\u001b[0m     \u001b[39mand\u001b[39;00m executing_eagerly):\n\u001b[1;32m   1859\u001b[0m   \u001b[39m# No tape is watching; skip to running the function.\u001b[39;00m\n\u001b[0;32m-> 1860\u001b[0m   \u001b[39mreturn\u001b[39;00m \u001b[39mself\u001b[39m\u001b[39m.\u001b[39m_build_call_outputs(\u001b[39mself\u001b[39;49m\u001b[39m.\u001b[39;49m_inference_function\u001b[39m.\u001b[39;49mcall(\n\u001b[1;32m   1861\u001b[0m       ctx, args, cancellation_manager\u001b[39m=\u001b[39;49mcancellation_manager))\n\u001b[1;32m   1862\u001b[0m forward_backward \u001b[39m=\u001b[39m \u001b[39mself\u001b[39m\u001b[39m.\u001b[39m_select_forward_and_backward_functions(\n\u001b[1;32m   1863\u001b[0m     args,\n\u001b[1;32m   1864\u001b[0m     possible_gradient_type,\n\u001b[1;32m   1865\u001b[0m     executing_eagerly)\n\u001b[1;32m   1866\u001b[0m forward_function, args_with_tangents \u001b[39m=\u001b[39m forward_backward\u001b[39m.\u001b[39mforward()\n",
      "File \u001b[0;32m~/miniconda/envs/dl_gpu/lib/python3.8/site-packages/tensorflow/python/eager/function.py:497\u001b[0m, in \u001b[0;36m_EagerDefinedFunction.call\u001b[0;34m(self, ctx, args, cancellation_manager)\u001b[0m\n\u001b[1;32m    495\u001b[0m \u001b[39mwith\u001b[39;00m _InterpolateFunctionError(\u001b[39mself\u001b[39m):\n\u001b[1;32m    496\u001b[0m   \u001b[39mif\u001b[39;00m cancellation_manager \u001b[39mis\u001b[39;00m \u001b[39mNone\u001b[39;00m:\n\u001b[0;32m--> 497\u001b[0m     outputs \u001b[39m=\u001b[39m execute\u001b[39m.\u001b[39;49mexecute(\n\u001b[1;32m    498\u001b[0m         \u001b[39mstr\u001b[39;49m(\u001b[39mself\u001b[39;49m\u001b[39m.\u001b[39;49msignature\u001b[39m.\u001b[39;49mname),\n\u001b[1;32m    499\u001b[0m         num_outputs\u001b[39m=\u001b[39;49m\u001b[39mself\u001b[39;49m\u001b[39m.\u001b[39;49m_num_outputs,\n\u001b[1;32m    500\u001b[0m         inputs\u001b[39m=\u001b[39;49margs,\n\u001b[1;32m    501\u001b[0m         attrs\u001b[39m=\u001b[39;49mattrs,\n\u001b[1;32m    502\u001b[0m         ctx\u001b[39m=\u001b[39;49mctx)\n\u001b[1;32m    503\u001b[0m   \u001b[39melse\u001b[39;00m:\n\u001b[1;32m    504\u001b[0m     outputs \u001b[39m=\u001b[39m execute\u001b[39m.\u001b[39mexecute_with_cancellation(\n\u001b[1;32m    505\u001b[0m         \u001b[39mstr\u001b[39m(\u001b[39mself\u001b[39m\u001b[39m.\u001b[39msignature\u001b[39m.\u001b[39mname),\n\u001b[1;32m    506\u001b[0m         num_outputs\u001b[39m=\u001b[39m\u001b[39mself\u001b[39m\u001b[39m.\u001b[39m_num_outputs,\n\u001b[0;32m   (...)\u001b[0m\n\u001b[1;32m    509\u001b[0m         ctx\u001b[39m=\u001b[39mctx,\n\u001b[1;32m    510\u001b[0m         cancellation_manager\u001b[39m=\u001b[39mcancellation_manager)\n",
      "File \u001b[0;32m~/miniconda/envs/dl_gpu/lib/python3.8/site-packages/tensorflow/python/eager/execute.py:54\u001b[0m, in \u001b[0;36mquick_execute\u001b[0;34m(op_name, num_outputs, inputs, attrs, ctx, name)\u001b[0m\n\u001b[1;32m     52\u001b[0m \u001b[39mtry\u001b[39;00m:\n\u001b[1;32m     53\u001b[0m   ctx\u001b[39m.\u001b[39mensure_initialized()\n\u001b[0;32m---> 54\u001b[0m   tensors \u001b[39m=\u001b[39m pywrap_tfe\u001b[39m.\u001b[39;49mTFE_Py_Execute(ctx\u001b[39m.\u001b[39;49m_handle, device_name, op_name,\n\u001b[1;32m     55\u001b[0m                                       inputs, attrs, num_outputs)\n\u001b[1;32m     56\u001b[0m \u001b[39mexcept\u001b[39;00m core\u001b[39m.\u001b[39m_NotOkStatusException \u001b[39mas\u001b[39;00m e:\n\u001b[1;32m     57\u001b[0m   \u001b[39mif\u001b[39;00m name \u001b[39mis\u001b[39;00m \u001b[39mnot\u001b[39;00m \u001b[39mNone\u001b[39;00m:\n",
      "\u001b[0;31mKeyboardInterrupt\u001b[0m: "
     ]
    }
   ],
   "source": [
    "\"\"\"\n",
    "Trial 5 Complete [01h 07m 47s]\n",
    "val_accuracy: 0.9359405636787415\n",
    "Pour LSTM simple\n",
    "Best val_accuracy So Far: 0.9359405636787415\n",
    "Total elapsed time: 05h 43m 29s\n",
    "INFO:tensorflow:Oracle triggered exit\n",
    "\"\"\"\n",
    "\n",
    "import tensorflow as tf\n",
    "import numpy as np\n",
    "from sklearn.model_selection import train_test_split\n",
    "import keras_tuner as kt\n",
    "import keras.backend as K\n",
    "\n",
    "def contrastive_loss(y_true, y_pred):\n",
    "    margin = 1\n",
    "    y_true = tf.cast(y_true, tf.float32) # convertir y_true en float32\n",
    "    return tf.keras.backend.mean(y_true * tf.keras.backend.square(y_pred) + (1 - y_true) * tf.keras.backend.square(tf.keras.backend.maximum(margin - y_pred, 0)))\n",
    "def binary_crossentropy(y_true, y_pred):\n",
    "    return tf.keras.losses.binary_crossentropy(y_true, y_pred)\n",
    "def manhattan_distance(A, B):\n",
    "    return tf.keras.backend.sum(tf.keras.backend.abs(A - B), axis=1, keepdims=True)\n",
    "\n",
    "def build_model(hp):\n",
    "    input_dim = 15\n",
    "    input_dim_embedding = weight_matrix.shape[0]\n",
    "    output_dim_embedding = weight_matrix.shape[1]\n",
    "    distance_layer_function = manhattan_distance\n",
    "\n",
    "    input1 = tf.keras.layers.Input(shape=(input_dim,))\n",
    "    input2 = tf.keras.layers.Input(shape=(input_dim,))\n",
    "\n",
    "    shared_embedding = tf.keras.layers.Embedding(input_dim=input_dim_embedding, output_dim=output_dim_embedding, weights=[weight_matrix])\n",
    "    shared_lstm = tf.keras.layers.LSTM(hp.Int('lstm_layers', min_value=32, max_value=256, step=32))\n",
    "    encoded1 = shared_lstm(shared_embedding(input1))\n",
    "    encoded1 = tf.keras.layers.BatchNormalization()(encoded1)\n",
    "    encoded2 = shared_lstm(shared_embedding(input2))\n",
    "    encoded2 = tf.keras.layers.BatchNormalization()(encoded2)\n",
    "    merged_vector = tf.keras.layers.Lambda(lambda x: distance_layer_function(x[0], x[1]))([encoded1, encoded2])\n",
    "    output = tf.keras.layers.BatchNormalization()(merged_vector)\n",
    "    output = tf.keras.layers.Dense(1, activation=\"sigmoid\")(output)\n",
    "    siamese_net = tf.keras.models.Model(inputs=[input1, input2], outputs=output)\n",
    "\n",
    "    optimizer = tf.keras.optimizers.Adam(learning_rate=hp.Choice('learning_rate', values=[1e-3, 1e-4, 1e-5]))\n",
    "    siamese_net.compile(loss=contrastive_loss, optimizer=optimizer, metrics=['accuracy'])\n",
    "\n",
    "    return siamese_net\n",
    "\n",
    "# Split data into training and validation sets\n",
    "\n",
    "# Create a tuner\n",
    "tuner = kt.RandomSearch(\n",
    "    build_model,\n",
    "    objective='val_accuracy',\n",
    "    max_trials=5,\n",
    "    directory='my_dir',\n",
    "    project_name='my_project')\n",
    "# Define a callback to stop training if validation accuracy stops improving\n",
    "stop_early = tf.keras.callbacks.EarlyStopping(monitor='val_accuracy', patience=3)\n",
    "\n",
    "# Search for the best hyperparameters\n",
    "tuner.search(\n",
    "    [train_sentences_1,train_sentences_2],\n",
    "    np.array(train_data[\"label\"]),\n",
    "    epochs=5,\n",
    "    validation_data=([test_sentences_1,test_sentences_2], np.array(test_data[\"label\"])),\n",
    "    callbacks=[stop_early]\n",
    ")\n",
    "\n",
    "# Get the best hyperparameters\n",
    "best_hps = tuner.get_best_hyperparameters(num_trials=10)[0]\n",
    "\n",
    "\n",
    "# Evaluate the model on the test set\n"
   ]
  },
  {
   "cell_type": "code",
   "execution_count": null,
   "metadata": {},
   "outputs": [],
   "source": [
    "import tensorflow as tf\n",
    "import numpy as np\n",
    "from sklearn.model_selection import train_test_split\n",
    "import keras_tuner as kt\n",
    "import keras.backend as K\n",
    "\n",
    "def contrastive_loss(y_true, y_pred):\n",
    "    margin = 1\n",
    "    y_true = tf.cast(y_true, tf.float32) # convertir y_true en float32\n",
    "    return tf.keras.backend.mean(y_true * tf.keras.backend.square(y_pred) + (1 - y_true) * tf.keras.backend.square(tf.keras.backend.maximum(margin - y_pred, 0)))\n",
    "def binary_crossentropy(y_true, y_pred):\n",
    "    return tf.keras.losses.binary_crossentropy(y_true, y_pred)\n",
    "def manhattan_distance(A, B):\n",
    "    return tf.keras.backend.sum(tf.keras.backend.abs(A - B), axis=1, keepdims=True)\n",
    "\n",
    "def build_model(hp):\n",
    "    input_dim = 15\n",
    "    input_dim_embedding = weight_matrix.shape[0]\n",
    "    output_dim_embedding = weight_matrix.shape[1]\n",
    "    distance_layer_function = manhattan_distance\n",
    "\n",
    "    input1 = tf.keras.layers.Input(shape=(input_dim,))\n",
    "    input2 = tf.keras.layers.Input(shape=(input_dim,))\n",
    "\n",
    "    shared_embedding = tf.keras.layers.Embedding(input_dim=input_dim_embedding, output_dim=output_dim_embedding, weights=[weight_matrix])\n",
    "    shared_lstm = tf.keras.layers.Bidirectional(tf.keras.layers.LSTM(hp.Int('lstm_layers', min_value=32, max_value=256, step=32)))\n",
    "    encoded1 = shared_lstm(shared_embedding(input1))\n",
    "    encoded1 = tf.keras.layers.BatchNormalization()(encoded1)\n",
    "    encoded2 = shared_lstm(shared_embedding(input2))\n",
    "    encoded2 = tf.keras.layers.BatchNormalization()(encoded2)\n",
    "    merged_vector = tf.keras.layers.Lambda(lambda x: distance_layer_function(x[0], x[1]))([encoded1, encoded2])\n",
    "    output = tf.keras.layers.BatchNormalization()(merged_vector)\n",
    "    output = tf.keras.layers.Dense(1, activation=\"sigmoid\")(output)\n",
    "    siamese_net = tf.keras.models.Model(inputs=[input1, input2], outputs=output)\n",
    "        # Choix de l'optimiseur et du learning rate\n",
    "    optimizer_choice = hp.Choice('optimizer', values=['adam', 'rmsprop', 'sgd'])\n",
    "    learning_rate = hp.Choice('learning_rate', values=[1e-3, 1e-4, 1e-5])\n",
    "\n",
    "    if optimizer_choice == 'adam':\n",
    "        optimizer = tf.keras.optimizers.Adam(learning_rate=learning_rate)\n",
    "    elif optimizer_choice == 'rmsprop':\n",
    "        optimizer = tf.keras.optimizers.RMSprop(learning_rate=learning_rate)\n",
    "    else:\n",
    "        optimizer = tf.keras.optimizers.SGD(learning_rate=learning_rate)\n",
    "\n",
    "    siamese_net.compile(loss=contrastive_loss, optimizer=optimizer, metrics=['accuracy'])\n",
    "\n",
    "    return siamese_net\n",
    "\n",
    "# Split data into training and validation sets\n",
    "\n",
    "# Create a tuner\n",
    "tuner = kt.RandomSearch(\n",
    "    build_model,\n",
    "    objective='val_accuracy',\n",
    "    max_trials=2,\n",
    "    directory='my_dir',\n",
    "    project_name='my_project')\n",
    "# Define a callback to stop training if validation accuracy stops improving\n",
    "stop_early = tf.keras.callbacks.EarlyStopping(monitor='val_accuracy', patience=3)\n",
    "\n",
    "# Search for the best hyperparameters\n",
    "tuner.search(\n",
    "    [train_sentences_1,train_sentences_2],\n",
    "    np.array(train_data[\"label\"]),\n",
    "    epochs=5,\n",
    "    validation_data=([test_sentences_1,test_sentences_2], np.array(test_data[\"label\"])),\n",
    "    callbacks=[stop_early]\n",
    ")\n",
    "\n",
    "# Get the best hyperparameters\n",
    "best_hps = tuner.get_best_hyperparameters(num_trials=10)[0]\n"
   ]
  },
  {
   "cell_type": "code",
   "execution_count": null,
   "metadata": {},
   "outputs": [],
   "source": [
    "best_learning_rate = best_hps.get('learning_rate')\n",
    "best_hidden_layer_lstm = best_hps.get('lstm_layers')\n"
   ]
  },
  {
   "cell_type": "code",
   "execution_count": 15,
   "metadata": {},
   "outputs": [
    {
     "name": "stdout",
     "output_type": "stream",
     "text": [
      "Epoch 1/10\n"
     ]
    },
    {
     "name": "stderr",
     "output_type": "stream",
     "text": [
      "2023-03-27 07:43:35.140711: I tensorflow/core/grappler/optimizers/custom_graph_optimizer_registry.cc:113] Plugin optimizer for device_type GPU is enabled.\n",
      "2023-03-27 07:43:35.460401: I tensorflow/core/grappler/optimizers/custom_graph_optimizer_registry.cc:113] Plugin optimizer for device_type GPU is enabled.\n",
      "2023-03-27 07:43:35.461531: I tensorflow/core/grappler/optimizers/custom_graph_optimizer_registry.cc:113] Plugin optimizer for device_type GPU is enabled.\n"
     ]
    },
    {
     "name": "stdout",
     "output_type": "stream",
     "text": [
      "    1/11371 [..............................] - ETA: 6:15:29 - loss: 0.2790 - binary_crossentropy: 0.7295 - accuracy: 0.6250"
     ]
    },
    {
     "name": "stderr",
     "output_type": "stream",
     "text": [
      "2023-03-27 07:43:35.793450: I tensorflow/core/grappler/optimizers/custom_graph_optimizer_registry.cc:113] Plugin optimizer for device_type GPU is enabled.\n",
      "2023-03-27 07:43:35.812480: I tensorflow/core/grappler/optimizers/custom_graph_optimizer_registry.cc:113] Plugin optimizer for device_type GPU is enabled.\n"
     ]
    },
    {
     "name": "stdout",
     "output_type": "stream",
     "text": [
      "11371/11371 [==============================] - ETA: 0s - loss: 0.2759 - binary_crossentropy: 0.7148 - accuracy: 0.4988"
     ]
    },
    {
     "name": "stderr",
     "output_type": "stream",
     "text": [
      "2023-03-27 07:50:32.253382: I tensorflow/core/grappler/optimizers/custom_graph_optimizer_registry.cc:113] Plugin optimizer for device_type GPU is enabled.\n",
      "2023-03-27 07:50:32.381120: I tensorflow/core/grappler/optimizers/custom_graph_optimizer_registry.cc:113] Plugin optimizer for device_type GPU is enabled.\n",
      "2023-03-27 07:50:32.381139: I tensorflow/core/grappler/optimizers/custom_graph_optimizer_registry.cc:113] Plugin optimizer for device_type GPU is enabled.\n"
     ]
    },
    {
     "name": "stdout",
     "output_type": "stream",
     "text": [
      "11371/11371 [==============================] - 522s 46ms/step - loss: 0.2759 - binary_crossentropy: 0.7148 - accuracy: 0.4988 - val_loss: 0.3031 - val_binary_crossentropy: 0.6692 - val_accuracy: 0.7334\n",
      "Epoch 2/10\n",
      "11371/11371 [==============================] - 516s 45ms/step - loss: 0.2444 - binary_crossentropy: 0.7628 - accuracy: 0.3973 - val_loss: 0.3340 - val_binary_crossentropy: 0.6005 - val_accuracy: 0.8764\n",
      "Epoch 3/10\n",
      "11371/11371 [==============================] - 515s 45ms/step - loss: 0.2358 - binary_crossentropy: 0.7804 - accuracy: 0.3737 - val_loss: 0.3617 - val_binary_crossentropy: 0.5388 - val_accuracy: 0.9048\n",
      "Epoch 4/10\n",
      "11371/11371 [==============================] - 517s 45ms/step - loss: 0.2316 - binary_crossentropy: 0.7958 - accuracy: 0.3657 - val_loss: 0.3739 - val_binary_crossentropy: 0.5244 - val_accuracy: 0.8997\n",
      "Epoch 5/10\n",
      "11371/11371 [==============================] - 518s 46ms/step - loss: 0.2281 - binary_crossentropy: 0.8120 - accuracy: 0.3584 - val_loss: 0.3906 - val_binary_crossentropy: 0.4979 - val_accuracy: 0.9036\n",
      "Epoch 6/10\n",
      "11371/11371 [==============================] - 512s 45ms/step - loss: 0.2247 - binary_crossentropy: 0.8300 - accuracy: 0.3502 - val_loss: 0.4023 - val_binary_crossentropy: 0.4834 - val_accuracy: 0.9083\n",
      "Epoch 7/10\n",
      "11371/11371 [==============================] - 505s 44ms/step - loss: 0.2216 - binary_crossentropy: 0.8482 - accuracy: 0.3432 - val_loss: 0.4183 - val_binary_crossentropy: 0.4614 - val_accuracy: 0.9136\n",
      "Epoch 8/10\n",
      "11371/11371 [==============================] - 507s 45ms/step - loss: 0.2168 - binary_crossentropy: 0.8726 - accuracy: 0.3326 - val_loss: 0.4253 - val_binary_crossentropy: 0.4619 - val_accuracy: 0.9013\n",
      "Epoch 9/10\n",
      " 5481/11371 [=============>................] - ETA: 3:31 - loss: 0.2135 - binary_crossentropy: 0.8920 - accuracy: 0.3254"
     ]
    }
   ],
   "source": [
    "import numpy as np\n",
    "import tensorflow as tf\n",
    "from keras.layers import LSTM\n",
    "def manhattan_distance(A, B):\n",
    "    return tf.keras.backend.sum(tf.keras.backend.abs(A - B), axis=1, keepdims=True)\n",
    "siamese_lstm_model= SiameseNet(max_len=15,activation_function_output=\"sigmoid\",distance_layer_function=manhattan_distance,hidden_layer_architecture= LSTM,hidden_layer_neurons=128,weight_matrix=weight_matrix)\n",
    "siamese_lstm_model_history =  siamese_lstm_model.fit(train_sentences_1,train_sentences_2,np.array(train_data[\"label\"]),test_sentences_1,test_sentences_2,np.array(test_data[\"label\"]),cost_function=contrastive_loss,optimizer=tf.keras.optimizers.Adam(learning_rate=0.00001), batch_size=32, epochs=10)"
   ]
  },
  {
   "cell_type": "code",
   "execution_count": null,
   "metadata": {},
   "outputs": [],
   "source": [
    "import keras.backend as K\n",
    "import numpy as np\n",
    "\n",
    "from keras.models import Model\n",
    "from keras.layers import Input\n",
    "import keras.backend as K\n",
    "from keras.layers import Concatenate\n",
    "\n",
    "\n",
    "def Manhattan_distance(A,B):\n",
    "   return K.sum( K.abs( A-B),axis=1,keepdims=True)\n",
    "\n",
    "\n",
    "def improved_siamese_cnn():\n",
    "    input1 = tf.keras.layers.Input(shape=(16,))\n",
    "    input2 = tf.keras.layers.Input(shape=(16,))\n",
    "\n",
    "    shared_embedding = tf.keras.layers.Embedding(input_dim=66193, output_dim=100, weights=[weight_matrix])\n",
    "\n",
    "    shared_conv = tf.keras.Sequential([\n",
    "        tf.keras.layers.Conv1D(128, kernel_size=3, padding='same', activation='relu'),\n",
    "        tf.keras.layers.BatchNormalization(),\n",
    "        tf.keras.layers.GlobalMaxPooling1D()\n",
    "    ])\n",
    "\n",
    "    encoded1 = shared_conv(shared_embedding(input1))\n",
    "    encoded2 = shared_conv(shared_embedding(input2))\n",
    "\n",
    "    merged_vector = tf.keras.layers.Lambda(lambda x: Manhattan_distance(x[0], x[1]))([encoded1, encoded2])\n",
    "\n",
    "    output = tf.keras.layers.Dense(1, activation='sigmoid')(merged_vector)\n",
    "\n",
    "    siamese_net = tf.keras.models.Model(inputs=[input1, input2], outputs=output)\n",
    "\n",
    "    return siamese_net\n",
    "\n",
    "improved_siamese_cnn_model = improved_siamese_cnn()\n",
    "\n",
    "# Compile the model\n",
    "improved_siamese_cnn_model.compile(loss='binary_crossentropy', optimizer=tf.keras.optimizers.Adam(learning_rate=0.001), metrics=['binary_crossentropy', 'binary_accuracy'])\n",
    "\n",
    "# Callbacks\n",
    "early_stopping = tf.keras.callbacks.EarlyStopping(monitor='val_loss', patience=5)\n",
    "model_checkpoint = tf.keras.callbacks.ModelCheckpoint('best_model.h5', save_best_only=True, monitor='val_loss', mod\n",
    "                                                      \n",
    "                                                      \n",
    "                                                      e='min')\n",
    "\n",
    "# Train the model\n",
    "improved_siamese_cnn_model.fit(\n",
    "    [train_sentences_1_, train_sentences_2_], np.array(train_labels),\n",
    "    batch_size=32, epochs=10, validation_split=0.2, verbose=1,\n",
    "    callbacks=[early_stopping, model_checkpoint]\n",
    ")\n"
   ]
  },
  {
   "cell_type": "code",
   "execution_count": null,
   "metadata": {},
   "outputs": [],
   "source": [
    "import nltk\n",
    "\n",
    "nltk.download(\"punkt\")\n",
    "nltk.download(\"averaged_perceptron_tagger\")\n"
   ]
  },
  {
   "cell_type": "code",
   "execution_count": null,
   "metadata": {},
   "outputs": [],
   "source": [
    "def pos_tagging(text):\n",
    "    text=nltk.word_tokenize(text)\n",
    "    tags = [tag for _, tag in nltk.pos_tag(text)]\n",
    "    return tags"
   ]
  },
  {
   "cell_type": "code",
   "execution_count": null,
   "metadata": {},
   "outputs": [],
   "source": [
    "train_pos_tags_1_ = [pos_tagging(sentence) for sentence in train_sentences_1]\n",
    "train_pos_tags_2_ = [pos_tagging(sentence) for sentence in train_sentences_2]"
   ]
  },
  {
   "cell_type": "code",
   "execution_count": null,
   "metadata": {},
   "outputs": [],
   "source": [
    "from tensorflow.keras.preprocessing.text import Tokenizer\n",
    "from tensorflow.keras.preprocessing.sequence import pad_sequences\n",
    "max_seq_len = 16\n",
    "\n",
    "pos_tokenizer = Tokenizer()\n",
    "pos_tokenizer.fit_on_texts(train_pos_tags_1_ + train_pos_tags_2_)\n",
    "\n",
    "\n",
    "train_pos_tags_1_ = pos_tokenizer.texts_to_sequences(train_pos_tags_1_)\n",
    "train_pos_tags_2_ = pos_tokenizer.texts_to_sequences(train_pos_tags_2_)\n",
    "\n",
    "\n",
    "train_pos_tags_1_ = pad_sequences(train_pos_tags_1_, maxlen=max_seq_len)\n",
    "train_pos_tags_2_ = pad_sequences(train_pos_tags_2_, maxlen=max_seq_len)   \n",
    "\n",
    "\n",
    "\n",
    "\n",
    "\n"
   ]
  },
  {
   "cell_type": "code",
   "execution_count": null,
   "metadata": {},
   "outputs": [],
   "source": [
    "import tensorflow as tf\n",
    "\n",
    "def improved_siamese_lstm_with_pos():\n",
    "    \n",
    "    def attention_layer(encoded1, encoded2):\n",
    "        attention = tf.keras.layers.Dot(axes=(2, 2))([encoded1, encoded2])\n",
    "        attention = tf.keras.layers.Activation('softmax')(attention)\n",
    "        context = tf.keras.layers.Dot(axes=(2, 1))([attention, encoded2])\n",
    "        return context\n",
    "\n",
    "    input1 = tf.keras.layers.Input(shape=(16,))\n",
    "    input2 = tf.keras.layers.Input(shape=(16,))\n",
    "    pos_input1 = tf.keras.layers.Input(shape=(16,))\n",
    "    pos_input2 = tf.keras.layers.Input(shape=(16,))\n",
    "\n",
    "    shared_embedding = tf.keras.layers.Embedding(input_dim=66193, output_dim=100, weights=[weight_matrix])\n",
    "    shared_lstm = tf.keras.layers.Bidirectional(tf.keras.layers.LSTM(128, return_sequences=True))\n",
    "\n",
    "    pos_embedding = tf.keras.layers.Embedding(input_dim=len(pos_tokenizer.word_index) + 1, output_dim=10)\n",
    "\n",
    "    encoded1 = shared_lstm(shared_embedding(input1))\n",
    "    encoded1 = tf.keras.layers.BatchNormalization()(encoded1)\n",
    "    encoded2 = shared_lstm(shared_embedding(input2))\n",
    "    encoded2 = tf.keras.layers.BatchNormalization()(encoded2)\n",
    "\n",
    "    pos_encoded1 = pos_embedding(pos_input1)\n",
    "    pos_encoded2 = pos_embedding(pos_input2)\n",
    "\n",
    "    context1 = attention_layer(encoded1, encoded2)\n",
    "    context2 = attention_layer(encoded2, encoded1)\n",
    "\n",
    "    merged = tf.keras.layers.concatenate([encoded1, context1, pos_encoded1, encoded2, context2, pos_encoded2], axis=-1)\n",
    "    merged = tf.keras.layers.GlobalMaxPooling1D()(merged)\n",
    "    merged = tf.keras.layers.Dropout(0.5)(merged)\n",
    "    merged = tf.keras.layers.BatchNormalization()(merged)\n",
    "\n",
    "    output = tf.keras.layers.Dense(1, activation='sigmoid')(merged)\n",
    "\n",
    "    siamese_net = tf.keras.models.Model(inputs=[input1, input2, pos_input1, pos_input2], outputs=output)\n",
    "\n",
    "    return siamese_net\n",
    "\n",
    "improved_siamese_lstm_model_with_pos = improved_siamese_lstm_with_pos()\n",
    "\n",
    "# Compile the model\n",
    "improved_siamese_lstm_model_with_pos.compile(loss='binary_crossentropy', optimizer=tf.keras.optimizers.Adam(learning_rate=0.001),metrics=['binary_crossentropy', 'binary_accuracy'])\n",
    "\n"
   ]
  },
  {
   "cell_type": "code",
   "execution_count": null,
   "metadata": {},
   "outputs": [],
   "source": [
    "# Callbacks\n",
    "early_stopping = tf.keras.callbacks.EarlyStopping(monitor='val_loss', patience=5)\n",
    "model_checkpoint = tf.keras.callbacks.ModelCheckpoint('best_model.h5', save_best_only=True, monitor='val_loss', mode='min')\n",
    "\n",
    "\n",
    "improved_siamese_lstm_model_with_pos.fit(\n",
    "    [train_sentences_1_, train_sentences_2_,train_pos_tags_1_,train_pos_tags_2_], np.array(train_labels),\n",
    "    batch_size=32, epochs=10, validation_split=0.2, verbose=1,\n",
    "    callbacks=[early_stopping, model_checkpoint]\n",
    ")\n"
   ]
  },
  {
   "cell_type": "code",
   "execution_count": null,
   "metadata": {},
   "outputs": [],
   "source": []
  }
 ],
 "metadata": {
  "kernelspec": {
   "display_name": "Python 3.8.16 ('dl_gpu')",
   "language": "python",
   "name": "python3"
  },
  "language_info": {
   "codemirror_mode": {
    "name": "ipython",
    "version": 3
   },
   "file_extension": ".py",
   "mimetype": "text/x-python",
   "name": "python",
   "nbconvert_exporter": "python",
   "pygments_lexer": "ipython3",
   "version": "3.8.16"
  },
  "orig_nbformat": 4,
  "vscode": {
   "interpreter": {
    "hash": "58139a97a23f8524c35064e91912c687e768b6a827197604e5a6b0cb6960b4eb"
   }
  }
 },
 "nbformat": 4,
 "nbformat_minor": 2
}
